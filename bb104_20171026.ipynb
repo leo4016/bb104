{
 "cells": [
  {
   "cell_type": "markdown",
   "metadata": {},
   "source": [
    "# Python ETL\n",
    "\n",
    "## Syntax Introduction\n",
    "\n",
    "1. pritimiives\n",
    "1. collections\n",
    "1. control flow\n",
    "1. functions\n",
    "1. simple programs\n",
    "\n",
    "### Why python?\n",
    "\n",
    "* it is cool"
   ]
  },
  {
   "cell_type": "code",
   "execution_count": 138,
   "metadata": {},
   "outputs": [
    {
     "data": {
      "text/plain": [
       "'\\nThis can be used \\nas a \\nmulti line comment\\n'"
      ]
     },
     "execution_count": 138,
     "metadata": {},
     "output_type": "execute_result"
    }
   ],
   "source": [
    "# This is a Python comment\n",
    "\"\"\"\n",
    "This can be used \n",
    "as a \n",
    "multi line comment\n",
    "\"\"\""
   ]
  },
  {
   "cell_type": "code",
   "execution_count": 139,
   "metadata": {},
   "outputs": [
    {
     "data": {
      "text/plain": [
       "'Hello world'"
      ]
     },
     "execution_count": 139,
     "metadata": {},
     "output_type": "execute_result"
    }
   ],
   "source": [
    "# strings\n",
    "\"Hello, world\"\n",
    "'Hello, again'\n",
    "\"\"\"Hell'o \"world\"\"\"\n",
    "'''Hello world'''"
   ]
  },
  {
   "cell_type": "code",
   "execution_count": 140,
   "metadata": {},
   "outputs": [],
   "source": [
    "mystr = \"Hello, world\""
   ]
  },
  {
   "cell_type": "code",
   "execution_count": 141,
   "metadata": {},
   "outputs": [
    {
     "data": {
      "text/plain": [
       "'Hello, world'"
      ]
     },
     "execution_count": 141,
     "metadata": {},
     "output_type": "execute_result"
    }
   ],
   "source": [
    "mystr"
   ]
  },
  {
   "cell_type": "code",
   "execution_count": 142,
   "metadata": {},
   "outputs": [
    {
     "data": {
      "text/plain": [
       "2"
      ]
     },
     "execution_count": 142,
     "metadata": {},
     "output_type": "execute_result"
    }
   ],
   "source": [
    "1 + 1"
   ]
  },
  {
   "cell_type": "code",
   "execution_count": 143,
   "metadata": {},
   "outputs": [
    {
     "data": {
      "text/plain": [
       "1"
      ]
     },
     "execution_count": 143,
     "metadata": {},
     "output_type": "execute_result"
    }
   ],
   "source": [
    "2 - 1"
   ]
  },
  {
   "cell_type": "code",
   "execution_count": 144,
   "metadata": {},
   "outputs": [
    {
     "data": {
      "text/plain": [
       "4"
      ]
     },
     "execution_count": 144,
     "metadata": {},
     "output_type": "execute_result"
    }
   ],
   "source": [
    "2 * 2"
   ]
  },
  {
   "cell_type": "code",
   "execution_count": 145,
   "metadata": {},
   "outputs": [
    {
     "data": {
      "text/plain": [
       "2.0"
      ]
     },
     "execution_count": 145,
     "metadata": {},
     "output_type": "execute_result"
    }
   ],
   "source": [
    "4 / 2"
   ]
  },
  {
   "cell_type": "code",
   "execution_count": 146,
   "metadata": {},
   "outputs": [
    {
     "data": {
      "text/plain": [
       "8"
      ]
     },
     "execution_count": 146,
     "metadata": {},
     "output_type": "execute_result"
    }
   ],
   "source": [
    "2 ** 3"
   ]
  },
  {
   "cell_type": "code",
   "execution_count": 147,
   "metadata": {},
   "outputs": [
    {
     "data": {
      "text/plain": [
       "1"
      ]
     },
     "execution_count": 147,
     "metadata": {},
     "output_type": "execute_result"
    }
   ],
   "source": [
    "# mod\n",
    "10 % 3"
   ]
  },
  {
   "cell_type": "code",
   "execution_count": 148,
   "metadata": {},
   "outputs": [
    {
     "data": {
      "text/plain": [
       "True"
      ]
     },
     "execution_count": 148,
     "metadata": {},
     "output_type": "execute_result"
    }
   ],
   "source": [
    "True"
   ]
  },
  {
   "cell_type": "code",
   "execution_count": 149,
   "metadata": {},
   "outputs": [
    {
     "data": {
      "text/plain": [
       "False"
      ]
     },
     "execution_count": 149,
     "metadata": {},
     "output_type": "execute_result"
    }
   ],
   "source": [
    "False"
   ]
  },
  {
   "cell_type": "code",
   "execution_count": 150,
   "metadata": {},
   "outputs": [
    {
     "data": {
      "text/plain": [
       "False"
      ]
     },
     "execution_count": 150,
     "metadata": {},
     "output_type": "execute_result"
    }
   ],
   "source": [
    "not True"
   ]
  },
  {
   "cell_type": "code",
   "execution_count": 151,
   "metadata": {},
   "outputs": [
    {
     "data": {
      "text/plain": [
       "True"
      ]
     },
     "execution_count": 151,
     "metadata": {},
     "output_type": "execute_result"
    }
   ],
   "source": [
    "not False"
   ]
  },
  {
   "cell_type": "code",
   "execution_count": 152,
   "metadata": {},
   "outputs": [
    {
     "data": {
      "text/plain": [
       "False"
      ]
     },
     "execution_count": 152,
     "metadata": {},
     "output_type": "execute_result"
    }
   ],
   "source": [
    "True and False"
   ]
  },
  {
   "cell_type": "code",
   "execution_count": 153,
   "metadata": {},
   "outputs": [
    {
     "data": {
      "text/plain": [
       "True"
      ]
     },
     "execution_count": 153,
     "metadata": {},
     "output_type": "execute_result"
    }
   ],
   "source": [
    "False or True"
   ]
  },
  {
   "cell_type": "code",
   "execution_count": 154,
   "metadata": {},
   "outputs": [
    {
     "data": {
      "text/plain": [
       "True"
      ]
     },
     "execution_count": 154,
     "metadata": {},
     "output_type": "execute_result"
    }
   ],
   "source": [
    "1 == 1"
   ]
  },
  {
   "cell_type": "code",
   "execution_count": 155,
   "metadata": {
    "scrolled": true
   },
   "outputs": [
    {
     "data": {
      "text/plain": [
       "False"
      ]
     },
     "execution_count": 155,
     "metadata": {},
     "output_type": "execute_result"
    }
   ],
   "source": [
    "2 == 1"
   ]
  },
  {
   "cell_type": "code",
   "execution_count": 156,
   "metadata": {},
   "outputs": [
    {
     "data": {
      "text/plain": [
       "False"
      ]
     },
     "execution_count": 156,
     "metadata": {},
     "output_type": "execute_result"
    }
   ],
   "source": [
    "1 != 1"
   ]
  },
  {
   "cell_type": "code",
   "execution_count": 157,
   "metadata": {},
   "outputs": [
    {
     "data": {
      "text/plain": [
       "False"
      ]
     },
     "execution_count": 157,
     "metadata": {},
     "output_type": "execute_result"
    }
   ],
   "source": [
    "1 > 2"
   ]
  },
  {
   "cell_type": "code",
   "execution_count": 158,
   "metadata": {},
   "outputs": [
    {
     "data": {
      "text/plain": [
       "True"
      ]
     },
     "execution_count": 158,
     "metadata": {},
     "output_type": "execute_result"
    }
   ],
   "source": [
    "2 >= 2"
   ]
  },
  {
   "cell_type": "code",
   "execution_count": 159,
   "metadata": {},
   "outputs": [
    {
     "name": "stdout",
     "output_type": "stream",
     "text": [
      "David\n"
     ]
    }
   ],
   "source": [
    "name = \"David\"\n",
    "print(name)"
   ]
  },
  {
   "cell_type": "code",
   "execution_count": 160,
   "metadata": {},
   "outputs": [
    {
     "data": {
      "text/plain": [
       "'[Info] username is Ian'"
      ]
     },
     "execution_count": 160,
     "metadata": {},
     "output_type": "execute_result"
    }
   ],
   "source": [
    "\"[Info] username is \" + \"Ian\""
   ]
  },
  {
   "cell_type": "code",
   "execution_count": 161,
   "metadata": {},
   "outputs": [
    {
     "data": {
      "text/plain": [
       "'[Info] username is David'"
      ]
     },
     "execution_count": 161,
     "metadata": {},
     "output_type": "execute_result"
    }
   ],
   "source": [
    "\"[Info] username is \" + name"
   ]
  },
  {
   "cell_type": "code",
   "execution_count": 162,
   "metadata": {},
   "outputs": [],
   "source": [
    "#\"[Info] Today's temperature is \" + 75"
   ]
  },
  {
   "cell_type": "code",
   "execution_count": 163,
   "metadata": {},
   "outputs": [
    {
     "data": {
      "text/plain": [
       "\"[Info] Today's temperature is 75F\""
      ]
     },
     "execution_count": 163,
     "metadata": {},
     "output_type": "execute_result"
    }
   ],
   "source": [
    "\"[Info] Today's temperature is %sF\"%75"
   ]
  },
  {
   "cell_type": "code",
   "execution_count": 164,
   "metadata": {},
   "outputs": [
    {
     "data": {
      "text/plain": [
       "\"[Info] Today's temperature is 75F\""
      ]
     },
     "execution_count": 164,
     "metadata": {},
     "output_type": "execute_result"
    }
   ],
   "source": [
    "\"[Info] Today's temperature is {}F\".format(75)"
   ]
  },
  {
   "cell_type": "code",
   "execution_count": 165,
   "metadata": {},
   "outputs": [
    {
     "data": {
      "text/plain": [
       "\"[Info] Today's temperature in Taoyuan is 75F\""
      ]
     },
     "execution_count": 165,
     "metadata": {},
     "output_type": "execute_result"
    }
   ],
   "source": [
    "\"[Info] Today's temperature in %s is %sF\"%(\"Taoyuan\", 75)"
   ]
  },
  {
   "cell_type": "code",
   "execution_count": 166,
   "metadata": {},
   "outputs": [
    {
     "data": {
      "text/plain": [
       "\"[Info] Today's temperature in Taoyuan is 75F\""
      ]
     },
     "execution_count": 166,
     "metadata": {},
     "output_type": "execute_result"
    }
   ],
   "source": [
    "\"[Info] Today's temperature in {} is {}F\".format(\"Taoyuan\", 75)"
   ]
  },
  {
   "cell_type": "code",
   "execution_count": 167,
   "metadata": {},
   "outputs": [
    {
     "data": {
      "text/plain": [
       "\"[Info] Today's temperature in Taoyuan is 75F, Tomorrow is 75F\""
      ]
     },
     "execution_count": 167,
     "metadata": {},
     "output_type": "execute_result"
    }
   ],
   "source": [
    "\"[Info] Today's temperature in {0} is {1}F, Tomorrow is {1}F\".format(\"Taoyuan\", 75)"
   ]
  },
  {
   "cell_type": "code",
   "execution_count": 168,
   "metadata": {},
   "outputs": [
    {
     "data": {
      "text/plain": [
       "\"[Info] Today's temperature in Taoyuan is 75F, Tomorrow is 75F\""
      ]
     },
     "execution_count": 168,
     "metadata": {},
     "output_type": "execute_result"
    }
   ],
   "source": [
    "\"[Info] Today's temperature in {city} is {temp}F, Tomorrow is {temp}F\".format(city=\"Taoyuan\", temp=75)"
   ]
  },
  {
   "cell_type": "code",
   "execution_count": 169,
   "metadata": {},
   "outputs": [
    {
     "data": {
      "text/plain": [
       "5"
      ]
     },
     "execution_count": 169,
     "metadata": {},
     "output_type": "execute_result"
    }
   ],
   "source": [
    "len(\"hello\")"
   ]
  },
  {
   "cell_type": "code",
   "execution_count": 170,
   "metadata": {},
   "outputs": [
    {
     "data": {
      "text/plain": [
       "2"
      ]
     },
     "execution_count": 170,
     "metadata": {},
     "output_type": "execute_result"
    }
   ],
   "source": [
    "len(\"你好\")"
   ]
  },
  {
   "cell_type": "code",
   "execution_count": 171,
   "metadata": {},
   "outputs": [
    {
     "data": {
      "text/plain": [
       "[]"
      ]
     },
     "execution_count": 171,
     "metadata": {},
     "output_type": "execute_result"
    }
   ],
   "source": [
    "# Collections\n",
    "[]"
   ]
  },
  {
   "cell_type": "code",
   "execution_count": 172,
   "metadata": {},
   "outputs": [
    {
     "data": {
      "text/plain": [
       "[1]"
      ]
     },
     "execution_count": 172,
     "metadata": {},
     "output_type": "execute_result"
    }
   ],
   "source": [
    "[1]"
   ]
  },
  {
   "cell_type": "code",
   "execution_count": 173,
   "metadata": {},
   "outputs": [
    {
     "data": {
      "text/plain": [
       "[1, 2, 3, 4]"
      ]
     },
     "execution_count": 173,
     "metadata": {},
     "output_type": "execute_result"
    }
   ],
   "source": [
    "[1,2,3,4]"
   ]
  },
  {
   "cell_type": "code",
   "execution_count": 174,
   "metadata": {},
   "outputs": [
    {
     "data": {
      "text/plain": [
       "['nice', 1]"
      ]
     },
     "execution_count": 174,
     "metadata": {},
     "output_type": "execute_result"
    }
   ],
   "source": [
    "['nice', 1]"
   ]
  },
  {
   "cell_type": "code",
   "execution_count": 175,
   "metadata": {},
   "outputs": [],
   "source": [
    "students = []"
   ]
  },
  {
   "cell_type": "code",
   "execution_count": 176,
   "metadata": {},
   "outputs": [],
   "source": [
    "students.append(\"Ian\")"
   ]
  },
  {
   "cell_type": "code",
   "execution_count": 177,
   "metadata": {
    "scrolled": true
   },
   "outputs": [
    {
     "data": {
      "text/plain": [
       "['Ian']"
      ]
     },
     "execution_count": 177,
     "metadata": {},
     "output_type": "execute_result"
    }
   ],
   "source": [
    "students"
   ]
  },
  {
   "cell_type": "code",
   "execution_count": 178,
   "metadata": {},
   "outputs": [],
   "source": [
    "students.append(\"David\")"
   ]
  },
  {
   "cell_type": "code",
   "execution_count": 179,
   "metadata": {},
   "outputs": [
    {
     "data": {
      "text/plain": [
       "['Ian', 'David']"
      ]
     },
     "execution_count": 179,
     "metadata": {},
     "output_type": "execute_result"
    }
   ],
   "source": [
    "students"
   ]
  },
  {
   "cell_type": "code",
   "execution_count": 180,
   "metadata": {},
   "outputs": [],
   "source": [
    "students.insert(0, \"Brian\")"
   ]
  },
  {
   "cell_type": "code",
   "execution_count": 181,
   "metadata": {},
   "outputs": [
    {
     "data": {
      "text/plain": [
       "['Brian', 'Ian', 'David']"
      ]
     },
     "execution_count": 181,
     "metadata": {},
     "output_type": "execute_result"
    }
   ],
   "source": [
    "students"
   ]
  },
  {
   "cell_type": "code",
   "execution_count": 182,
   "metadata": {},
   "outputs": [
    {
     "data": {
      "text/plain": [
       "'David'"
      ]
     },
     "execution_count": 182,
     "metadata": {},
     "output_type": "execute_result"
    }
   ],
   "source": [
    "students.pop()"
   ]
  },
  {
   "cell_type": "code",
   "execution_count": 183,
   "metadata": {},
   "outputs": [
    {
     "data": {
      "text/plain": [
       "['Brian', 'Ian']"
      ]
     },
     "execution_count": 183,
     "metadata": {},
     "output_type": "execute_result"
    }
   ],
   "source": [
    "students"
   ]
  },
  {
   "cell_type": "code",
   "execution_count": 184,
   "metadata": {},
   "outputs": [],
   "source": [
    "del students[1]"
   ]
  },
  {
   "cell_type": "code",
   "execution_count": 185,
   "metadata": {},
   "outputs": [
    {
     "data": {
      "text/plain": [
       "['Brian']"
      ]
     },
     "execution_count": 185,
     "metadata": {},
     "output_type": "execute_result"
    }
   ],
   "source": [
    "students"
   ]
  },
  {
   "cell_type": "code",
   "execution_count": 186,
   "metadata": {},
   "outputs": [],
   "source": [
    "students.append('Ian')"
   ]
  },
  {
   "cell_type": "code",
   "execution_count": 187,
   "metadata": {},
   "outputs": [
    {
     "data": {
      "text/plain": [
       "['Brian', 'Ian']"
      ]
     },
     "execution_count": 187,
     "metadata": {},
     "output_type": "execute_result"
    }
   ],
   "source": [
    "students"
   ]
  },
  {
   "cell_type": "code",
   "execution_count": 188,
   "metadata": {},
   "outputs": [
    {
     "data": {
      "text/plain": [
       "'Ian'"
      ]
     },
     "execution_count": 188,
     "metadata": {},
     "output_type": "execute_result"
    }
   ],
   "source": [
    "students[1]"
   ]
  },
  {
   "cell_type": "code",
   "execution_count": 189,
   "metadata": {},
   "outputs": [
    {
     "data": {
      "text/plain": [
       "'Brian'"
      ]
     },
     "execution_count": 189,
     "metadata": {},
     "output_type": "execute_result"
    }
   ],
   "source": [
    "students[0]"
   ]
  },
  {
   "cell_type": "code",
   "execution_count": 190,
   "metadata": {},
   "outputs": [
    {
     "data": {
      "text/plain": [
       "'Ian'"
      ]
     },
     "execution_count": 190,
     "metadata": {},
     "output_type": "execute_result"
    }
   ],
   "source": [
    "students[-1]"
   ]
  },
  {
   "cell_type": "code",
   "execution_count": 191,
   "metadata": {},
   "outputs": [],
   "source": [
    "students[0] = \"John\""
   ]
  },
  {
   "cell_type": "code",
   "execution_count": 192,
   "metadata": {},
   "outputs": [
    {
     "data": {
      "text/plain": [
       "['John', 'Ian']"
      ]
     },
     "execution_count": 192,
     "metadata": {},
     "output_type": "execute_result"
    }
   ],
   "source": [
    "students"
   ]
  },
  {
   "cell_type": "code",
   "execution_count": 193,
   "metadata": {},
   "outputs": [],
   "source": [
    "students.append(\"Batman\")"
   ]
  },
  {
   "cell_type": "code",
   "execution_count": 194,
   "metadata": {},
   "outputs": [],
   "source": [
    "students.extend([\"Spiderman\", \"Ironman\"])"
   ]
  },
  {
   "cell_type": "code",
   "execution_count": 195,
   "metadata": {},
   "outputs": [
    {
     "data": {
      "text/plain": [
       "['John', 'Ian', 'Batman', 'Spiderman', 'Ironman']"
      ]
     },
     "execution_count": 195,
     "metadata": {},
     "output_type": "execute_result"
    }
   ],
   "source": [
    "students"
   ]
  },
  {
   "cell_type": "code",
   "execution_count": 196,
   "metadata": {},
   "outputs": [],
   "source": [
    "# list[start:end:step]"
   ]
  },
  {
   "cell_type": "code",
   "execution_count": 197,
   "metadata": {},
   "outputs": [
    {
     "data": {
      "text/plain": [
       "['Ian', 'Batman']"
      ]
     },
     "execution_count": 197,
     "metadata": {},
     "output_type": "execute_result"
    }
   ],
   "source": [
    "students[1:3]"
   ]
  },
  {
   "cell_type": "code",
   "execution_count": 198,
   "metadata": {},
   "outputs": [
    {
     "data": {
      "text/plain": [
       "['Ian', 'Batman', 'Spiderman', 'Ironman']"
      ]
     },
     "execution_count": 198,
     "metadata": {},
     "output_type": "execute_result"
    }
   ],
   "source": [
    "students[1:]"
   ]
  },
  {
   "cell_type": "code",
   "execution_count": 199,
   "metadata": {},
   "outputs": [
    {
     "data": {
      "text/plain": [
       "['John', 'Ian', 'Batman']"
      ]
     },
     "execution_count": 199,
     "metadata": {},
     "output_type": "execute_result"
    }
   ],
   "source": [
    "students[:3]"
   ]
  },
  {
   "cell_type": "code",
   "execution_count": 200,
   "metadata": {},
   "outputs": [
    {
     "data": {
      "text/plain": [
       "['John', 'Batman', 'Ironman']"
      ]
     },
     "execution_count": 200,
     "metadata": {},
     "output_type": "execute_result"
    }
   ],
   "source": [
    "students[::2]"
   ]
  },
  {
   "cell_type": "code",
   "execution_count": 201,
   "metadata": {},
   "outputs": [
    {
     "data": {
      "text/plain": [
       "['Ironman', 'Spiderman', 'Batman', 'Ian', 'John']"
      ]
     },
     "execution_count": 201,
     "metadata": {},
     "output_type": "execute_result"
    }
   ],
   "source": [
    "students[::-1]"
   ]
  },
  {
   "cell_type": "code",
   "execution_count": 202,
   "metadata": {},
   "outputs": [
    {
     "data": {
      "text/plain": [
       "['Ian', 'Spiderman']"
      ]
     },
     "execution_count": 202,
     "metadata": {},
     "output_type": "execute_result"
    }
   ],
   "source": [
    "students[1:4:2]"
   ]
  },
  {
   "cell_type": "code",
   "execution_count": 203,
   "metadata": {},
   "outputs": [
    {
     "data": {
      "text/plain": [
       "True"
      ]
     },
     "execution_count": 203,
     "metadata": {},
     "output_type": "execute_result"
    }
   ],
   "source": [
    "\"Ian\" in students"
   ]
  },
  {
   "cell_type": "code",
   "execution_count": 204,
   "metadata": {},
   "outputs": [],
   "source": [
    "is_in_class = \"Spiderman\" in students"
   ]
  },
  {
   "cell_type": "code",
   "execution_count": 205,
   "metadata": {},
   "outputs": [
    {
     "data": {
      "text/plain": [
       "False"
      ]
     },
     "execution_count": 205,
     "metadata": {},
     "output_type": "execute_result"
    }
   ],
   "source": [
    "\"wonder woman\" in students"
   ]
  },
  {
   "cell_type": "code",
   "execution_count": 206,
   "metadata": {},
   "outputs": [],
   "source": [
    "record = (\"Ian\", \"python\", \"engineer\")"
   ]
  },
  {
   "cell_type": "code",
   "execution_count": 207,
   "metadata": {},
   "outputs": [
    {
     "data": {
      "text/plain": [
       "'python'"
      ]
     },
     "execution_count": 207,
     "metadata": {},
     "output_type": "execute_result"
    }
   ],
   "source": [
    "record[1]"
   ]
  },
  {
   "cell_type": "code",
   "execution_count": 229,
   "metadata": {},
   "outputs": [],
   "source": [
    "# Dictionary\n",
    "student_dict = {\"name\": \"Ian\",\n",
    "                \"job\": \"Teacher\",\n",
    "                \"skills\": [\"python\", \"ruby\", \"javascript\", \"postgresql\"]}"
   ]
  },
  {
   "cell_type": "code",
   "execution_count": 230,
   "metadata": {},
   "outputs": [
    {
     "data": {
      "text/plain": [
       "'Ian'"
      ]
     },
     "execution_count": 230,
     "metadata": {},
     "output_type": "execute_result"
    }
   ],
   "source": [
    "student_dict['name']"
   ]
  },
  {
   "cell_type": "code",
   "execution_count": 231,
   "metadata": {},
   "outputs": [
    {
     "data": {
      "text/plain": [
       "'Teacher'"
      ]
     },
     "execution_count": 231,
     "metadata": {},
     "output_type": "execute_result"
    }
   ],
   "source": [
    "student_dict['job']"
   ]
  },
  {
   "cell_type": "code",
   "execution_count": 232,
   "metadata": {},
   "outputs": [],
   "source": [
    "student_dict['name'] = \"Daivd\""
   ]
  },
  {
   "cell_type": "code",
   "execution_count": 233,
   "metadata": {},
   "outputs": [
    {
     "data": {
      "text/plain": [
       "{'job': 'Teacher',\n",
       " 'name': 'Daivd',\n",
       " 'skills': ['python', 'ruby', 'javascript', 'postgresql']}"
      ]
     },
     "execution_count": 233,
     "metadata": {},
     "output_type": "execute_result"
    }
   ],
   "source": [
    "student_dict"
   ]
  },
  {
   "cell_type": "code",
   "execution_count": 234,
   "metadata": {},
   "outputs": [],
   "source": [
    "del student_dict['name']"
   ]
  },
  {
   "cell_type": "code",
   "execution_count": 235,
   "metadata": {},
   "outputs": [
    {
     "data": {
      "text/plain": [
       "{'job': 'Teacher', 'skills': ['python', 'ruby', 'javascript', 'postgresql']}"
      ]
     },
     "execution_count": 235,
     "metadata": {},
     "output_type": "execute_result"
    }
   ],
   "source": [
    "student_dict"
   ]
  },
  {
   "cell_type": "code",
   "execution_count": 236,
   "metadata": {},
   "outputs": [],
   "source": [
    "student_dict['name'] = \"Brian\""
   ]
  },
  {
   "cell_type": "code",
   "execution_count": 237,
   "metadata": {},
   "outputs": [
    {
     "data": {
      "text/plain": [
       "{'job': 'Teacher',\n",
       " 'name': 'Brian',\n",
       " 'skills': ['python', 'ruby', 'javascript', 'postgresql']}"
      ]
     },
     "execution_count": 237,
     "metadata": {},
     "output_type": "execute_result"
    }
   ],
   "source": [
    "student_dict"
   ]
  },
  {
   "cell_type": "code",
   "execution_count": 238,
   "metadata": {},
   "outputs": [],
   "source": [
    "# in在dictionary裏面用來查詢Key存不存在"
   ]
  },
  {
   "cell_type": "code",
   "execution_count": 239,
   "metadata": {},
   "outputs": [
    {
     "data": {
      "text/plain": [
       "True"
      ]
     },
     "execution_count": 239,
     "metadata": {},
     "output_type": "execute_result"
    }
   ],
   "source": [
    "'name' in student_dict"
   ]
  },
  {
   "cell_type": "code",
   "execution_count": 240,
   "metadata": {},
   "outputs": [
    {
     "data": {
      "text/plain": [
       "False"
      ]
     },
     "execution_count": 240,
     "metadata": {},
     "output_type": "execute_result"
    }
   ],
   "source": [
    "'Brian' in student_dict"
   ]
  },
  {
   "cell_type": "code",
   "execution_count": 241,
   "metadata": {},
   "outputs": [
    {
     "data": {
      "text/plain": [
       "'Brian'"
      ]
     },
     "execution_count": 241,
     "metadata": {},
     "output_type": "execute_result"
    }
   ],
   "source": [
    "# Graceful handling of missing key, use dict.get('key')\n",
    "student_dict['name']"
   ]
  },
  {
   "cell_type": "code",
   "execution_count": 242,
   "metadata": {},
   "outputs": [],
   "source": [
    "#student_dict['location']"
   ]
  },
  {
   "cell_type": "code",
   "execution_count": 243,
   "metadata": {},
   "outputs": [
    {
     "data": {
      "text/plain": [
       "'Brian'"
      ]
     },
     "execution_count": 243,
     "metadata": {},
     "output_type": "execute_result"
    }
   ],
   "source": [
    "student_dict.get(\"name\")"
   ]
  },
  {
   "cell_type": "code",
   "execution_count": 244,
   "metadata": {},
   "outputs": [],
   "source": [
    "student_dict.get(\"location\")"
   ]
  },
  {
   "cell_type": "code",
   "execution_count": 245,
   "metadata": {},
   "outputs": [
    {
     "data": {
      "text/plain": [
       "{'job': 'Teacher',\n",
       " 'name': 'Brian',\n",
       " 'skills': ['python', 'ruby', 'javascript', 'postgresql']}"
      ]
     },
     "execution_count": 245,
     "metadata": {},
     "output_type": "execute_result"
    }
   ],
   "source": [
    "student_dict"
   ]
  },
  {
   "cell_type": "code",
   "execution_count": 246,
   "metadata": {},
   "outputs": [
    {
     "data": {
      "text/plain": [
       "'Taipei'"
      ]
     },
     "execution_count": 246,
     "metadata": {},
     "output_type": "execute_result"
    }
   ],
   "source": [
    "# dict.get(key, default_value)\n",
    "student_dict.get(\"location\", \"Taipei\")"
   ]
  },
  {
   "cell_type": "code",
   "execution_count": 247,
   "metadata": {},
   "outputs": [
    {
     "data": {
      "text/plain": [
       "{'job': 'Teacher',\n",
       " 'name': 'Brian',\n",
       " 'skills': ['python', 'ruby', 'javascript', 'postgresql']}"
      ]
     },
     "execution_count": 247,
     "metadata": {},
     "output_type": "execute_result"
    }
   ],
   "source": [
    "student_dict"
   ]
  },
  {
   "cell_type": "code",
   "execution_count": 248,
   "metadata": {},
   "outputs": [
    {
     "data": {
      "text/plain": [
       "'Taipei'"
      ]
     },
     "execution_count": 248,
     "metadata": {},
     "output_type": "execute_result"
    }
   ],
   "source": [
    "# if key not in dict, insert val\n",
    "student_dict.setdefault(\"location\", \"Taipei\")"
   ]
  },
  {
   "cell_type": "code",
   "execution_count": 249,
   "metadata": {},
   "outputs": [
    {
     "data": {
      "text/plain": [
       "{'job': 'Teacher',\n",
       " 'location': 'Taipei',\n",
       " 'name': 'Brian',\n",
       " 'skills': ['python', 'ruby', 'javascript', 'postgresql']}"
      ]
     },
     "execution_count": 249,
     "metadata": {},
     "output_type": "execute_result"
    }
   ],
   "source": [
    "student_dict"
   ]
  },
  {
   "cell_type": "code",
   "execution_count": 250,
   "metadata": {},
   "outputs": [
    {
     "data": {
      "text/plain": [
       "'Taipei'"
      ]
     },
     "execution_count": 250,
     "metadata": {},
     "output_type": "execute_result"
    }
   ],
   "source": [
    "student_dict.setdefault(\"location\", \"Tainan\")"
   ]
  },
  {
   "cell_type": "code",
   "execution_count": 251,
   "metadata": {},
   "outputs": [
    {
     "data": {
      "text/plain": [
       "{'job': 'Teacher',\n",
       " 'location': 'Taipei',\n",
       " 'name': 'Brian',\n",
       " 'skills': ['python', 'ruby', 'javascript', 'postgresql']}"
      ]
     },
     "execution_count": 251,
     "metadata": {},
     "output_type": "execute_result"
    }
   ],
   "source": [
    "student_dict"
   ]
  },
  {
   "cell_type": "code",
   "execution_count": 255,
   "metadata": {},
   "outputs": [
    {
     "data": {
      "text/plain": [
       "{1, 2, 3, 4, 5}"
      ]
     },
     "execution_count": 255,
     "metadata": {},
     "output_type": "execute_result"
    }
   ],
   "source": [
    "{1,2,3,3,4,4,5,5,5}"
   ]
  },
  {
   "cell_type": "code",
   "execution_count": 264,
   "metadata": {},
   "outputs": [
    {
     "data": {
      "text/plain": [
       "{1, 2, 3, 4, 5, 6, 12}"
      ]
     },
     "execution_count": 264,
     "metadata": {},
     "output_type": "execute_result"
    }
   ],
   "source": [
    "s1 = set([1,2,3,3,4,4,5,6,6,6,6,12])\n",
    "s1"
   ]
  },
  {
   "cell_type": "code",
   "execution_count": 265,
   "metadata": {},
   "outputs": [
    {
     "data": {
      "text/plain": [
       "{1, 2, 3, 4, 5, 6, 7, 8, 9}"
      ]
     },
     "execution_count": 265,
     "metadata": {},
     "output_type": "execute_result"
    }
   ],
   "source": [
    "s2 = set([1,2,3,3,4,4,5,6,6,6,6,7,8,9])\n",
    "s2"
   ]
  },
  {
   "cell_type": "code",
   "execution_count": 266,
   "metadata": {},
   "outputs": [
    {
     "data": {
      "text/plain": [
       "{7, 8, 9}"
      ]
     },
     "execution_count": 266,
     "metadata": {},
     "output_type": "execute_result"
    }
   ],
   "source": [
    "s2 - s1"
   ]
  },
  {
   "cell_type": "code",
   "execution_count": 267,
   "metadata": {},
   "outputs": [
    {
     "data": {
      "text/plain": [
       "{7, 8, 9, 12}"
      ]
     },
     "execution_count": 267,
     "metadata": {},
     "output_type": "execute_result"
    }
   ],
   "source": [
    "s2 ^ s1"
   ]
  },
  {
   "cell_type": "code",
   "execution_count": 268,
   "metadata": {},
   "outputs": [
    {
     "data": {
      "text/plain": [
       "{1, 2, 3, 4, 5, 6}"
      ]
     },
     "execution_count": 268,
     "metadata": {},
     "output_type": "execute_result"
    }
   ],
   "source": [
    "s2 & s1"
   ]
  },
  {
   "cell_type": "code",
   "execution_count": 269,
   "metadata": {},
   "outputs": [
    {
     "data": {
      "text/plain": [
       "{1, 2, 3, 4, 5, 6, 7, 8, 9, 12}"
      ]
     },
     "execution_count": 269,
     "metadata": {},
     "output_type": "execute_result"
    }
   ],
   "source": [
    "s2 | s1"
   ]
  },
  {
   "cell_type": "code",
   "execution_count": 271,
   "metadata": {},
   "outputs": [
    {
     "data": {
      "text/plain": [
       "False"
      ]
     },
     "execution_count": 271,
     "metadata": {},
     "output_type": "execute_result"
    }
   ],
   "source": [
    "s2 >= s1"
   ]
  },
  {
   "cell_type": "code",
   "execution_count": 272,
   "metadata": {},
   "outputs": [
    {
     "data": {
      "text/plain": [
       "False"
      ]
     },
     "execution_count": 272,
     "metadata": {},
     "output_type": "execute_result"
    }
   ],
   "source": [
    "s1 <= s2"
   ]
  },
  {
   "cell_type": "code",
   "execution_count": 275,
   "metadata": {},
   "outputs": [
    {
     "data": {
      "text/plain": [
       "{'job': 'Teacher',\n",
       " 'location': 'Taipei',\n",
       " 'name': 'Brian',\n",
       " 'skills': ['python', 'ruby', 'javascript', 'postgresql']}"
      ]
     },
     "execution_count": 275,
     "metadata": {},
     "output_type": "execute_result"
    }
   ],
   "source": [
    "student_dict = {'job': 'Teacher',\n",
    " 'location': 'Taipei',\n",
    " 'name': 'Brian',\n",
    " 'skills': ['python', 'ruby', 'javascript', 'postgresql']}\n",
    "student_dict"
   ]
  },
  {
   "cell_type": "code",
   "execution_count": 277,
   "metadata": {},
   "outputs": [
    {
     "data": {
      "text/plain": [
       "[{'job': 'Teacher',\n",
       "  'location': 'Taipei',\n",
       "  'name': 'Brian',\n",
       "  'skills': ['python', 'ruby', 'javascript', 'postgresql']},\n",
       " {'job': 'Teacher',\n",
       "  'location': 'Taipei',\n",
       "  'name': 'Brian',\n",
       "  'skills': ['python', 'ruby', 'javascript', 'postgresql']},\n",
       " {'job': 'Teacher',\n",
       "  'location': 'Taipei',\n",
       "  'name': 'Brian',\n",
       "  'skills': ['python', 'ruby', 'javascript', 'postgresql']}]"
      ]
     },
     "execution_count": 277,
     "metadata": {},
     "output_type": "execute_result"
    }
   ],
   "source": [
    "[student_dict, student_dict, student_dict]"
   ]
  },
  {
   "cell_type": "code",
   "execution_count": 278,
   "metadata": {},
   "outputs": [],
   "source": [
    "# Control flow"
   ]
  },
  {
   "cell_type": "code",
   "execution_count": 281,
   "metadata": {},
   "outputs": [],
   "source": [
    "price =  11"
   ]
  },
  {
   "cell_type": "code",
   "execution_count": 287,
   "metadata": {},
   "outputs": [
    {
     "name": "stdout",
     "output_type": "stream",
     "text": [
      "price is greater than 10\n"
     ]
    }
   ],
   "source": [
    "if price > 10:\n",
    "    print(\"price is greater than 10\")"
   ]
  },
  {
   "cell_type": "code",
   "execution_count": 289,
   "metadata": {},
   "outputs": [
    {
     "name": "stdout",
     "output_type": "stream",
     "text": [
      "price is smaller than 10\n"
     ]
    }
   ],
   "source": [
    "price = 8\n",
    "\n",
    "if price > 10:\n",
    "    print(\"price is greater than 10\")\n",
    "elif price < 10:\n",
    "    print(\"price is smaller than 10\")\n",
    "else:\n",
    "    print(\"price is 10\")"
   ]
  },
  {
   "cell_type": "code",
   "execution_count": 293,
   "metadata": {},
   "outputs": [
    {
     "name": "stdout",
     "output_type": "stream",
     "text": [
      "student name is Brian\n",
      "student name is Batman\n",
      "student name is Spiderman\n"
     ]
    }
   ],
   "source": [
    "# loops\n",
    "# students = [\"Brian\", \"Ian\", \"David\"]\n",
    "# for (i=0, i<length(students), i++) {\n",
    "#   print(studnets[i])\n",
    "# }\n",
    "students = ['Brian', 'Batman', 'Spiderman']\n",
    "for name in students:\n",
    "    print(\"student name is %s\"%name)"
   ]
  },
  {
   "cell_type": "code",
   "execution_count": 307,
   "metadata": {},
   "outputs": [
    {
     "name": "stdout",
     "output_type": "stream",
     "text": [
      "key: job\n",
      "val: Teacher\n",
      "==================================================\n",
      "key: location\n",
      "val: Taipei\n",
      "==================================================\n",
      "key: name\n",
      "val: Brian\n",
      "==================================================\n",
      "key: skills\n",
      "val: ['python', 'ruby', 'javascript', 'postgresql']\n",
      "==================================================\n"
     ]
    }
   ],
   "source": [
    "student_dict = {'job': 'Teacher',\n",
    " 'location': 'Taipei',\n",
    " 'name': 'Brian',\n",
    " 'skills': ['python', 'ruby', 'javascript', 'postgresql']}\n",
    "\n",
    "for k in student_dict:\n",
    "    print(\"key: %s\"%k)\n",
    "    print(\"val: %s\"%student_dict[k])\n",
    "    print(\"=\"*50)"
   ]
  },
  {
   "cell_type": "code",
   "execution_count": 312,
   "metadata": {},
   "outputs": [
    {
     "name": "stdout",
     "output_type": "stream",
     "text": [
      "student_dict.items() is => dict_items([('job', 'Teacher'), ('location', 'Taipei'), ('name', 'Brian'), ('skills', ['python', 'ruby', 'javascript', 'postgresql'])])\n",
      "key: job\n",
      "val: Teacher\n",
      "==================================================\n",
      "key: location\n",
      "val: Taipei\n",
      "==================================================\n",
      "key: name\n",
      "val: Brian\n",
      "==================================================\n",
      "key: skills\n",
      "val: ['python', 'ruby', 'javascript', 'postgresql']\n",
      "==================================================\n"
     ]
    }
   ],
   "source": [
    "student_dict = {'job': 'Teacher',\n",
    " 'location': 'Taipei',\n",
    " 'name': 'Brian',\n",
    " 'skills': ['python', 'ruby', 'javascript', 'postgresql']}\n",
    "\n",
    "print(\"student_dict.items() is => %s\"%(student_dict.items()))\n",
    "\n",
    "for k,v in student_dict.items():\n",
    "    print(\"key: %s\"%k)\n",
    "    print(\"val: %s\"%v)\n",
    "    print(\"=\"*50)"
   ]
  },
  {
   "cell_type": "code",
   "execution_count": 314,
   "metadata": {},
   "outputs": [
    {
     "data": {
      "text/plain": [
       "dict_keys(['job', 'location', 'name', 'skills'])"
      ]
     },
     "execution_count": 314,
     "metadata": {},
     "output_type": "execute_result"
    }
   ],
   "source": [
    "student_dict.keys()"
   ]
  },
  {
   "cell_type": "code",
   "execution_count": 315,
   "metadata": {},
   "outputs": [
    {
     "data": {
      "text/plain": [
       "dict_values(['Teacher', 'Taipei', 'Brian', ['python', 'ruby', 'javascript', 'postgresql']])"
      ]
     },
     "execution_count": 315,
     "metadata": {},
     "output_type": "execute_result"
    }
   ],
   "source": [
    "student_dict.values()"
   ]
  },
  {
   "cell_type": "code",
   "execution_count": 317,
   "metadata": {},
   "outputs": [
    {
     "name": "stdout",
     "output_type": "stream",
     "text": [
      "Teacher\n",
      "Taipei\n",
      "Brian\n",
      "['python', 'ruby', 'javascript', 'postgresql']\n"
     ]
    }
   ],
   "source": [
    "for x in student_dict.values():\n",
    "    print(x)"
   ]
  },
  {
   "cell_type": "code",
   "execution_count": 295,
   "metadata": {},
   "outputs": [
    {
     "name": "stdout",
     "output_type": "stream",
     "text": [
      "0\n",
      "1\n",
      "2\n",
      "3\n",
      "4\n",
      "5\n",
      "6\n",
      "7\n",
      "8\n",
      "9\n"
     ]
    }
   ],
   "source": [
    "for num in range(10):\n",
    "    print(num)"
   ]
  },
  {
   "cell_type": "code",
   "execution_count": 296,
   "metadata": {},
   "outputs": [
    {
     "name": "stdout",
     "output_type": "stream",
     "text": [
      "2\n",
      "3\n",
      "4\n",
      "5\n",
      "6\n",
      "7\n",
      "8\n",
      "9\n"
     ]
    }
   ],
   "source": [
    "for num in range(2,10):\n",
    "    print(num)"
   ]
  },
  {
   "cell_type": "code",
   "execution_count": 298,
   "metadata": {},
   "outputs": [
    {
     "name": "stdout",
     "output_type": "stream",
     "text": [
      "2\n",
      "4\n",
      "6\n",
      "8\n"
     ]
    }
   ],
   "source": [
    "# range(start, end, step)\n",
    "for num in range(2,10,2):\n",
    "    print(num)"
   ]
  },
  {
   "cell_type": "code",
   "execution_count": 300,
   "metadata": {},
   "outputs": [
    {
     "name": "stdout",
     "output_type": "stream",
     "text": [
      "0\n",
      "1\n",
      "2\n",
      "3\n"
     ]
    }
   ],
   "source": [
    "x = 0\n",
    "while x < 4:\n",
    "    print(x)\n",
    "    x += 1 # x = x + 1"
   ]
  },
  {
   "cell_type": "code",
   "execution_count": 318,
   "metadata": {},
   "outputs": [],
   "source": [
    "# Functions\n",
    "books = [\"Harry Potter\", \"Lord of Rings\", \"Python, The Definitive Guide\", \"Javascript The Best Parts\"]"
   ]
  },
  {
   "cell_type": "code",
   "execution_count": 319,
   "metadata": {},
   "outputs": [
    {
     "name": "stdout",
     "output_type": "stream",
     "text": [
      "Harry Potter\n",
      "Lord of Rings\n",
      "Python, The Definitive Guide\n",
      "Javascript The Best Parts\n"
     ]
    }
   ],
   "source": [
    "for book in books:\n",
    "    print(book)"
   ]
  },
  {
   "cell_type": "code",
   "execution_count": 322,
   "metadata": {},
   "outputs": [],
   "source": [
    "def lower_case(mystr):\n",
    "    print(\"[INFO] Running lower_case function\")\n",
    "    return mystr.lower()"
   ]
  },
  {
   "cell_type": "code",
   "execution_count": 323,
   "metadata": {},
   "outputs": [
    {
     "name": "stdout",
     "output_type": "stream",
     "text": [
      "[INFO] Running lower_case function\n",
      "harry potter\n",
      "[INFO] Running lower_case function\n",
      "lord of rings\n",
      "[INFO] Running lower_case function\n",
      "python, the definitive guide\n",
      "[INFO] Running lower_case function\n",
      "javascript the best parts\n"
     ]
    }
   ],
   "source": [
    "for book in books:\n",
    "    lower_book = lower_case(book)\n",
    "    print(lower_book)"
   ]
  },
  {
   "cell_type": "code",
   "execution_count": 324,
   "metadata": {},
   "outputs": [
    {
     "name": "stdout",
     "output_type": "stream",
     "text": [
      "[INFO] Running lower_case function\n",
      "harry potter\n",
      "[INFO] Running lower_case function\n",
      "lord of rings\n",
      "[INFO] Running lower_case function\n",
      "python, the definitive guide\n",
      "[INFO] Running lower_case function\n",
      "javascript the best parts\n"
     ]
    }
   ],
   "source": [
    "for book in books:\n",
    "    lower_book = lower_case(mystr = book)\n",
    "    print(lower_book)"
   ]
  },
  {
   "cell_type": "code",
   "execution_count": 328,
   "metadata": {},
   "outputs": [],
   "source": [
    "def add(x,y):\n",
    "    return x+y\n",
    "\n",
    "def sub(x,y):\n",
    "    return x-y"
   ]
  },
  {
   "cell_type": "code",
   "execution_count": 326,
   "metadata": {},
   "outputs": [
    {
     "data": {
      "text/plain": [
       "3"
      ]
     },
     "execution_count": 326,
     "metadata": {},
     "output_type": "execute_result"
    }
   ],
   "source": [
    "add(1,2)"
   ]
  },
  {
   "cell_type": "code",
   "execution_count": 327,
   "metadata": {},
   "outputs": [
    {
     "data": {
      "text/plain": [
       "7"
      ]
     },
     "execution_count": 327,
     "metadata": {},
     "output_type": "execute_result"
    }
   ],
   "source": [
    "add(3,4)"
   ]
  },
  {
   "cell_type": "code",
   "execution_count": 329,
   "metadata": {},
   "outputs": [
    {
     "data": {
      "text/plain": [
       "1"
      ]
     },
     "execution_count": 329,
     "metadata": {},
     "output_type": "execute_result"
    }
   ],
   "source": [
    "sub(2,1)"
   ]
  },
  {
   "cell_type": "code",
   "execution_count": 330,
   "metadata": {},
   "outputs": [
    {
     "data": {
      "text/plain": [
       "2"
      ]
     },
     "execution_count": 330,
     "metadata": {},
     "output_type": "execute_result"
    }
   ],
   "source": [
    "sub(5,3)"
   ]
  },
  {
   "cell_type": "code",
   "execution_count": 331,
   "metadata": {},
   "outputs": [
    {
     "data": {
      "text/plain": [
       "4"
      ]
     },
     "execution_count": 331,
     "metadata": {},
     "output_type": "execute_result"
    }
   ],
   "source": [
    "sub(x=5,y=1)"
   ]
  },
  {
   "cell_type": "code",
   "execution_count": 332,
   "metadata": {},
   "outputs": [
    {
     "data": {
      "text/plain": [
       "-4"
      ]
     },
     "execution_count": 332,
     "metadata": {},
     "output_type": "execute_result"
    }
   ],
   "source": [
    "sub(y=5,x=1)"
   ]
  },
  {
   "cell_type": "code",
   "execution_count": 341,
   "metadata": {},
   "outputs": [],
   "source": [
    "x = 1\n",
    "def set_x(num):\n",
    "    #print(\"[INFO] before set: %s\"%x)\n",
    "    x = num\n",
    "    print(\"[INFO] after set: %s\"%x)\n",
    "\n"
   ]
  },
  {
   "cell_type": "code",
   "execution_count": 342,
   "metadata": {},
   "outputs": [
    {
     "name": "stdout",
     "output_type": "stream",
     "text": [
      "[INFO] after set: 5\n"
     ]
    }
   ],
   "source": [
    "set_x(5)"
   ]
  },
  {
   "cell_type": "code",
   "execution_count": 352,
   "metadata": {},
   "outputs": [],
   "source": [
    "# Python modules"
   ]
  },
  {
   "cell_type": "code",
   "execution_count": 343,
   "metadata": {},
   "outputs": [],
   "source": [
    "import json"
   ]
  },
  {
   "cell_type": "code",
   "execution_count": 344,
   "metadata": {},
   "outputs": [
    {
     "data": {
      "text/plain": [
       "<module 'json' from '/home/ubuntu/.pyenv/versions/3.6.1/lib/python3.6/json/__init__.py'>"
      ]
     },
     "execution_count": 344,
     "metadata": {},
     "output_type": "execute_result"
    }
   ],
   "source": [
    "json"
   ]
  },
  {
   "cell_type": "code",
   "execution_count": 345,
   "metadata": {},
   "outputs": [
    {
     "data": {
      "text/plain": [
       "'[\"hi\"]'"
      ]
     },
     "execution_count": 345,
     "metadata": {},
     "output_type": "execute_result"
    }
   ],
   "source": [
    "json.dumps(['hi'])"
   ]
  },
  {
   "cell_type": "code",
   "execution_count": 346,
   "metadata": {},
   "outputs": [],
   "source": [
    "import json as j"
   ]
  },
  {
   "cell_type": "code",
   "execution_count": 347,
   "metadata": {},
   "outputs": [
    {
     "data": {
      "text/plain": [
       "'[\"HI\"]'"
      ]
     },
     "execution_count": 347,
     "metadata": {},
     "output_type": "execute_result"
    }
   ],
   "source": [
    "j.dumps([\"HI\"])"
   ]
  },
  {
   "cell_type": "code",
   "execution_count": 348,
   "metadata": {},
   "outputs": [],
   "source": [
    "from json import dumps"
   ]
  },
  {
   "cell_type": "code",
   "execution_count": 349,
   "metadata": {},
   "outputs": [
    {
     "data": {
      "text/plain": [
       "'[\"HI\"]'"
      ]
     },
     "execution_count": 349,
     "metadata": {},
     "output_type": "execute_result"
    }
   ],
   "source": [
    "dumps([\"HI\"])"
   ]
  },
  {
   "cell_type": "code",
   "execution_count": 350,
   "metadata": {},
   "outputs": [],
   "source": [
    "from json import dumps as d"
   ]
  },
  {
   "cell_type": "code",
   "execution_count": 351,
   "metadata": {},
   "outputs": [
    {
     "data": {
      "text/plain": [
       "'[\"HI\"]'"
      ]
     },
     "execution_count": 351,
     "metadata": {},
     "output_type": "execute_result"
    }
   ],
   "source": [
    "d([\"HI\"])"
   ]
  },
  {
   "cell_type": "code",
   "execution_count": 353,
   "metadata": {},
   "outputs": [],
   "source": [
    "# Word counting"
   ]
  },
  {
   "cell_type": "code",
   "execution_count": 1,
   "metadata": {},
   "outputs": [],
   "source": [
    "f = open('./trump_speech.txt')"
   ]
  },
  {
   "cell_type": "code",
   "execution_count": 2,
   "metadata": {},
   "outputs": [
    {
     "data": {
      "text/plain": [
       "<_io.TextIOWrapper name='./trump_speech.txt' mode='r' encoding='UTF-8'>"
      ]
     },
     "execution_count": 2,
     "metadata": {},
     "output_type": "execute_result"
    }
   ],
   "source": [
    "f"
   ]
  },
  {
   "cell_type": "code",
   "execution_count": 3,
   "metadata": {},
   "outputs": [],
   "source": [
    "speech = f.read()"
   ]
  },
  {
   "cell_type": "code",
   "execution_count": 4,
   "metadata": {},
   "outputs": [
    {
     "data": {
      "text/plain": [
       "'Mr. Secretary General, Mr. President, world leaders, and distinguished delegates, welcome to New York. It is a profound honor to stand here in my home city as a representative of the American people to address the people of the world. As millions of our citizens continue to suffer the effects of the devastating hurricanes that have struck our country, I want to begin by expressing my appreciation to every leader in this room who has offered assistance and aid. The American people are strong and resilient, and they will emerge from these hardships more determined than ever before. \\nFortunately, the United States has done very well since Election Day last November 8. The stock market is at an all-time high, a record. Unemployment is at its lowest level in 16 years, and because of our regulatory and other reforms, we have more people working in the United States today than ever before. Companies are moving back, creating job growth, the likes of which our country has not seen in a very long time, and it has just been announced that we will be spending almost $700 billion on our military and defense. Our military will soon be the strongest it has ever been. For more than 70 years, in times of war and peace, the leaders of nations, movements, and religions have stood before this assembly. \\nLike them, I intend to address some of the very serious threats before us today, but also the enormous potential waiting to be unleashed. We live in a time of extraordinary opportunity. Breakthroughs in science, technology, and medicine are curing illnesses and solving problems that prior generations thought impossible to solve. But each day also brings news of growing dangers that threaten everything we cherish and value. Terrorists and extremists have gathered strength and spread to every region of the planet. Rogue regimes represented in this body not only support terror but threaten other nations and their own people with the most destructive weapons known to humanity. \\nAuthority and authoritarian powers seek to collapse the values, the systems, and alliances, that prevented conflict and tilted the word toward freedom since World War II. International criminal networks traffic drugs, weapons, people, force dislocation and mass migration, threaten our borders and new forms of aggression exploit technology to menace our citizens. To put it simply, we meet at a time of both immense promise and great peril. It is entirely up to us whether we lift the world to new heights or let it fall into a valley of disrepair. We have it in our power, should we so choose, to lift millions from poverty, to help our citizens realize their dreams, and to ensure that new generations of children are raised free from violence, hatred, and fear. \\nThis institution was founded in the aftermath of two world wars, to help shape this better future. It was based on the vision that diverse nations could cooperate to protect their sovereignty, preserve their security, and promote their prosperity. It was in the same period exactly 70 years ago that the United States developed the Marshall Plan to help restore Europe. Those these beautiful pillars, they are pillars of peace, sovereignty, security, and prosperity. The Marshall Plan was built on the noble idea that the whole world is safer when nations are strong, independent, and free. As president, Truman said in his message to Congress at that time, our support of European recovery is in full accord with our support of the United Nations. \\nThe success of the United Nations depends upon the independent strength of its members. To overcome the perils of the present, and to achieve the promise of the future, we must begin with the wisdom of the past. Our success depends on a coalition of strong and independent nations that embrace their sovereignty, to promote security, prosperity, and peace, for themselves and for the world. We do not expect diverse countries to share the same cultures, traditions, or even systems of government, but we do expect all nations to uphold these two core sovereign duties, to respect the interests of their own people and the rights of every other sovereign nation. \\nThis is the beautiful vision of this institution, and this is the foundation for cooperation and success. Strong sovereign nations let diverse countries with different values, different cultures, and different dreams not just coexist, but work side by side on the basis of mutual respect. Strong sovereign nations let their people take ownership of the future and control their own destiny. And strong sovereign nations allow individuals to flourish in the fullness of the life intended by God. In America, we do not seek to impose our way of life on anyone, but rather to let it shine as an example for everyone to watch. \\nThis week gives our country a special reason to take pride in that example. We are celebrating the 230th anniversary of our beloved Constitution, the oldest constitution still in use in the world today. This timeless document has been the foundation of peace, prosperity, and freedom for the Americans and for countless millions around the globe whose own countries have found inspiration in its respect for human nature, human dignity, and the rule of law. The greatest in the United States Constitution is its first three beautiful words. They are \"We the people.\" Generations of Americans have sacrificed to maintain the promise of those words, the promise of our country and of our great history.\\nIn America, the people govern, the people rule, and the people are sovereign. I was elected not to take power, but to give power to the American people where it belongs. In foreign affairs, we are renewing this founding principle of sovereignty. Our government\\'s first duty is to its people, to our citizens, to serve their needs, to ensure their safety, to preserve their rights, and to defend their values. As president of the United States, I will always put America first. Just like you, as the leaders of your countries, will always and should always put your countries first.\\nAll responsible leaders have an obligation to serve their own citizens, and the nation state remains the best vehicle for elevating the human condition. But making a better life for our people also requires us to with work together in close harmony and unity, to create a more safe and peaceful future for all people. \\nThe United States will forever be a great friend to the world and especially to its allies. But we can no longer be taken advantage of or enter into a one-sided deal where the United States gets nothing in return. As long as I hold this office, I will defend America\\'s interests above all else, but in fulfilling our obligations to our nations, we also realize that it\\'s in everyone\\'s interests to seek the future where all nations can be sovereign, prosperous, and secure. \\nAmerica does more than speak for the values expressed in the United Nations charter. Our citizens have paid the ultimate price to defend our freedom and the freedom of many nations represented in this great hall. America\\'s devotion is measured on the battlefields where our young men and women have fought and sacrificed alongside of our allies. From the beaches of Europe to the deserts of the Middle East to the jungles of Asia, it is an eternal credit to the American character that even after we and our allies emerge victorious from the bloodiest war in history, we did not seek territorial expansion or attempt to oppose and impose our way of life on others. Instead, we helped build institutions such as this one to defend the sovereignty, security, and prosperity for all. For the diverse nations of the world, this is our hope. \\nWe want harmony and friendship, not conflict and strife. We are guided by outcomes, not ideologies. We have a policy of principled realism, rooted in shared goal, interests, and values. That realism forces us to confront the question facing every leader and nation in this room, it is a question we cannot escape or avoid. We will slide down the path of complacency, numb to the challenges, threats, and even wars that we face, or do we have enough strength and pride to confront those dangers today so that our citizens can enjoy peace and prosperity tomorrow. \\nIf we desire to lift up our citizens, if we aspire to the approval of history, then we must fulfill our sovereign duties to the people we faithfully represent. We must protect our nations, their interests and their futures. We must reject threats to sovereignty from the Ukraine to the South China Sea. We must uphold respect for law, respect for borders, and respect for culture, and the peaceful engagement these allow. \\nAnd just as the founders of this body intended, we must work together and confront together those who threatens us with chaos, turmoil, and terror. The score of our planet today is small regimes that violate every principle that the United Nations is based. They respect neither their own citizens nor the sovereign rights of their countries. If the righteous many do not confront the wicked few, then evil will triumph. When decent people and nations become bystanders to history, the forces of destruction only gather power and strength.\\nNo one has shown more contempt for other nations and for the well-being of their own people than the depraved regime in North Korea. It is responsible for the starvation deaths of millions of North Koreans. And for the imprisonment, torture, killing, and oppression of countless more. We were all witness to the regime\\'s deadly abuse when an innocent American college student, Otto Warmbier, was returned to America, only to die a few days later. \\nWe saw it in the assassination of the dictator\\'s brother, using banned nerve agents in an international airport. We know it kidnapped a sweet 13-year-old Japanese girl from a beach in her own country, to enslave her as a language tutor for North Korea\\'s spies. If this is not twisted enough, now North Korea\\'s reckless pursuit of nuclear weapons and ballistic missiles threatens the entire world with unthinkable loss of human life. It is an outrage that some nations would not only trade with such a regime, but would arm, supply, and financially support a country that imperils the world with nuclear conflict. \\nNo nation on Earth has an interest in seeing this band of criminals arm itself with nuclear weapons and missiles. The United States has great strength and patience, but if it is forced to defend itself or its allies, we will have no choice but to totally destroy North Korea. Rocket Man is on a suicide mission for himself and for his regime. The United States is ready, willing, and able, but hopefully this will not be necessary. That\\'s what the United Nations is all about. That\\'s what the United Nations is for. Let\\'s see how they do.\\nIt is time for North Korea to realize that the denuclearization is its only acceptable future. The United Nations Security Council recently held two unanimous 15-0 votes adopting hard-hitting resolutions against North Korea, and I want to thank China and Russia for joining the vote to impose sanctions, along with all of the other members of the Security Council. Thank you to all involved. But we must do much more.\\nIt is time for all nations to work together to isolate the Kim regime until it ceases its hostile behavior. We face this decision not only in North Korea; it is far past time for the nations of the world to confront another reckless regime, one that speaks openly of mass murder, vowing death to America, destruction to Israel, and ruin for many leaders and nations in this room. \\nThe Iranian government masks a corrupt dictatorship behind the false guise of a democracy. It has turned a wealthy country, with a rich history and culture, into an economically depleted rogue state whose chief exports are violence, bloodshed, and chaos. The longest-suffering victims of Iran\\'s leaders are, in fact, its own people. Rather than use its resources to improve Iranian live, its oil profits go to fund Hezbollah and other terrorists that kill innocent Muslims and attack their peaceful Arab and Israeli neighbors. \\nThis wealth, which rightly belongs to Iran\\'s people, also goes to shore up Bashar al-Assad\\'s dictatorship, fuel Yemen\\'s civil war, and undermine peace throughout the entire Middle East. We cannot let a murderous regime continue these destabilizing activities while building dangerous missiles, and we cannot abide by an agreement if it provides cover for the eventual construction of a nuclear program. The Iran deal was one of the worst and most one-sided transactions the United States has ever entered into. Frankly, that deal is an embarrassment to the United States, and I don\\'t think you\\'ve heard the last of it. Believe me.\\nIt is time for the entire world to join us in demanding that Iran\\'s government end its pursuit of death and destruction. It is time for the regime to free all Americans and citizens of other nations that they have unjustly detained. Above all, Iran\\'s government must stop supporting terrorists, begin serving its own people, and respect the sovereign rights of its neighbors. The entire world understands that the good people of Iran want change, and, other than the vast military power of the United States, that Iran\\'s people are what their leaders fear the most. This is what causes the regime to restrict internet access, tear down satellite dishes, shoot unarmed student protesters, and imprison political reformers. \\nOppressive regimes cannot endure forever, and the day will come when the people will face a choice. Will they continue down the path of poverty, bloodshed, and terror, or will the Iranian people return to the nation\\'s proud roots as a center of civilization, culture, and wealth, where their people can be happy and prosperous once again? The Iranian regime\\'s support for terror is in stark contrast to the recent commitments of many of its neighbors to fight terrorism and halt its finance, and in Saudi Arabia early last year, I was greatly honored to address the leaders of more than 50 Arab and Muslim nations. We agreed that all responsible nations must work together to confront terrorists and the Islamic extremism that inspires them. \\nWe will stop radical islamic terrorism because we cannot allow it to tear up our nation and, indeed, to tear up the entire world. We must deny the terrorists safe haven, transit, funding, and any form of support for their vile and sinister ideology. We must drive them out of our nation. It is time to expose and hold responsible those countries whose support and fi — who support and finance terror groups like al-Qaeda, Hezbollah, the Taliban, and others that slaughter innocent people. \\nThe United States and our allies are working together throughout the Middle East to crush the loser terrorists and stop the reemergence of safe havens they use to launch attacks on all of our people. Last month I announced a new strategy for victory in the fight against this evil in Afghanistan. From now on, our security interests will dictate the length and scope of military operation, not arbitrary benchmarks and timetables set up by politicians. I have also totally changed the rules of engagement in our fight against the Taliban and other terrorist groups.\\nIn Syria and Iraq, we have made big gains toward lasting defeat of ISIS. In fact, our country has achieved more against ISIS in the last eight months than it has in many, many years combined. We seek the deescalation of the Syrian conflict, and a political solution that honors the will of the Syrian people. The actions of the criminal regime of Bashar al-Assad, including the use of chemical weapons against his own citizens, even innocent children, shock the conscience of every decent person. No society could be safe if banned chemical weapons are allowed to spread. That is why the United States carried out a missile strike on the airbase that launched the attack.\\nWe appreciate the efforts of the United Nations agencies that are providing vital humanitarian assistance in areas liberated from ISIS, and we especially thank Jordan, Turkey, and Lebanon for their role in hosting refugees from the Syrian conflict. The United States is a compassionate nation and has spent billions and billions of dollars in helping to support this effort. We seek an approach to refugee resettlement that is designed to help these horribly treated people and which enables their eventual return to their home countries to be part of the rebuilding process. For the cost of resettling one refugee in the United States, we can assist more than 10 in their home region. \\nOut of the goodness of our hearts, we offer financial assistance to hosting countries in the region and we support recent agreements of the G20 nations that will seek to host refugees as close to their home countries as possible. This is the safe, responsible, and humanitarian approach. For decades the United States has dealt with migration challenges here in the Western Hemisphere. \\nWe have learned that over the long term, uncontrolled migration is deeply unfair to both the sending and the receiving countries. For the sending countries, it reduces domestic pressure to pursue needed political and economic reform and drains them of the human capital necessary to motivate and implement those reforms. For the receiving countries, the substantial costs of uncontrolled migration are born overwhelmingly by low-income citizens whose concerns are often ignored by both media and government. \\nI want to salute the work of the United Nations in seeking to address the problems that cause people to flee from their home. The United Nations and African Union led peacekeeping missions to have invaluable contributions in stabilizing conflict in Africa. The United States continues to lead the world in humanitarian assistance, including famine prevention and relief, in South Sudan, Somalia, and northern Nigeria and Yemen. \\nWe have invested in better health and opportunity all over the world through programs like PEPFAR, which funds AIDS relief, the President’s Malaria Initiative, the Global Health Security Agenda, the Global Fund to End Modern Slavery, and the Women Entrepreneur\\'s Finance Initiative, part of our commitment to empowering women all across the globe. \\nWe also thank — we also thank the secretary general for recognizing that the United Nations must reform if it is to be an effective partner in confronting threats to sovereignty, security, and prosperity. Too often the focus of this organization has not been on results, but on bureaucracy and process. In some cases, states that seek to subvert this institution\\'s noble end have hijacked the very systems that are supposed to advance them. For example, it is a massive source of embarrassment to the United Nations that some governments with egregious human rights records sit on the UN Human Rights Council. \\nThe United States is one out of 193 countries in the United Nations, and yet we pay 22 percent of the entire budget and more. In fact, we pay far more than anybody realizes. The United States bears an unfair cost burden, but to be fair, if it could actually accomplish all of its stated goals, especially the goal of peace, this investment would easily be well worth it. Major portions of the world are in conflict, and some, in fact, are going to hell, but the powerful people in this room, under the guidance and auspices of the United Nations, can solve many of these vicious and complex problems. The American people hope that one day soon the United Nations can be a much more accountable and effective advocate for human dignity and freedom around the world. \\nIn the meantime, we believe that no nation should have to bear a disproportionate share of the burden, militarily or financially. Nations of the world must take a greater role in promoting secure and prosperous societies in their own region. That is why in the Western Hemisphere the United States has stood against the corrupt, destabilizing regime in Cuba and embraced the enduring dream of the Cuban people to live in freedom. \\nMy administration recently announced that we will not lift sanctions on the Cuban government until it makes fundamental reforms. We have also imposed tough calibrated sanctions on the socialist Maduro regime in Venezuela, which has brought a once thriving nation to the brink of total collapse. The socialist dictatorship of Nicolás Maduro has inflicted terrible pain and suffering on the good people of that country. \\nThis corrupt regime destroyed a prosperous nation — prosperous nation, by imposing a failed ideology that has produced poverty and misery everywhere it has been tried. To make matters worse, Maduro has defied his own people, stealing power from their elected representatives, to preserve his disastrous rule. The Venezuelan people are starving, and their country is collapsing. Their democratic institutions are being destroyed. The situation is completely unacceptable, and we cannot stand by and watch. \\nAs a responsible neighbor and friend, we and all others have a goal — that goal is to help them regain their freedom, recover their country, and restore their democracy. I would like to thank leaders in this room for condemning the regime and providing vital support to the Venezuelan people. The United States has taken important steps to hold the regime accountable. We are prepared to take further action if the government of Venezuela persists on its path to impose authoritarian rule on the Venezuelan people.\\nWe are fortunate to have incredibly strong and healthy trade relationships with many of the Latin American countries gathered here today. Our economic bond forms a critical foundation for advancing peace and prosperity for all of our people and all of our neighbors. I ask every country represented here today to be prepared to do more to address this very real crisis. We call for the full restoration of democracy and political freedoms in Venezuela. The problem in Venezuela is not that socialism has been poorly implemented, but that socialism has been faithfully implemented. \\nFrom the Soviet Union to Cuba to Venezuela, wherever true socialism or communism has been adopted, it has delivered anguish and devastation and failure. Those who preach the tenets of these discredited ideologies only contribute to the continued suffering of the people who live under these cruel systems. America stands with every person living under a brutal regime. Our respect for sovereignty is also a call for action. All people deserve a government that cares for their safety, their interests, and their well-being, including their prosperity. In America, we seek stronger ties of business and trade with all nations of goodwill, but this trade must be fair and it must be reciprocal. \\nFor too long the American people  were told that mammoth, multinational trade deals, unaccountable international tribunals, and powerful global bureaucracies were the best way to promote their success. But as those promises flowed, millions of jobs vanished and thousands of factories disappeared. Others gamed the system and broke the rules, and our great middle class, once the bedrock of American prosperity, was forgotten and left behind, but they are forgotten no more and they will never be forgotten again. \\nWhile America will pursue cooperation and commerce with other nations, we are renewing our commitment to the first duty of every government, the duty of our citizens. This bond is the source of America\\'s strength and that of every responsible nation represented here today. If this organization is to have any hope of successfully confronting the challenges before us, it will depend, as President Truman said some 70 years ago, on the independent strength of its members. \\nIf we are to embrace the opportunities of the future and overcome the present dangers together, there can be no substantive for strong, sovereign, and independent nations, nations that are rooted in the histories and invested in their destiny, nations that seek allies to befriend, not enemies to conquer, and most important of all, nations that are home to men and women who are willing to sacrifice for their countries, their fellow citizens, and for all that is best in the human spirit.\\nIn remembering the great victory that led to this body\\'s founding, we must never forget that those heroes who fought against evil, also fought for the nations that they love. Patriotism led the Poles to die to save Poland, the French to fight for a free France, and the Brits to stand strong for Britain. Today, if we do not invest ourselves, our hearts, our minds, and our nations, if we will not build strong families, safe communities, and healthy societies for ourselves, no one can do it for us. \\nThis is the ancient wish of every people and the deepest yearning that lives inside every sacred soul. So let this be our mission, and let this be our message to the world. We will fight together, sacrifice together, and stand together for peace, for freedom, for justice, for family, for humanity, and for the almighty God who made us all. Thank you, God bless you, God bless the nations of the world, and God bless the United States of America. Thank you very much.\\n'"
      ]
     },
     "execution_count": 4,
     "metadata": {},
     "output_type": "execute_result"
    }
   ],
   "source": [
    "speech"
   ]
  },
  {
   "cell_type": "code",
   "execution_count": 5,
   "metadata": {},
   "outputs": [],
   "source": [
    "f.close()"
   ]
  },
  {
   "cell_type": "code",
   "execution_count": 7,
   "metadata": {},
   "outputs": [
    {
     "ename": "ValueError",
     "evalue": "I/O operation on closed file.",
     "output_type": "error",
     "traceback": [
      "\u001b[0;31m---------------------------------------------------------------------------\u001b[0m",
      "\u001b[0;31mValueError\u001b[0m                                Traceback (most recent call last)",
      "\u001b[0;32m<ipython-input-7-571e9fb02258>\u001b[0m in \u001b[0;36m<module>\u001b[0;34m()\u001b[0m\n\u001b[0;32m----> 1\u001b[0;31m \u001b[0mf\u001b[0m\u001b[0;34m.\u001b[0m\u001b[0mread\u001b[0m\u001b[0;34m(\u001b[0m\u001b[0;34m)\u001b[0m\u001b[0;34m\u001b[0m\u001b[0m\n\u001b[0m",
      "\u001b[0;31mValueError\u001b[0m: I/O operation on closed file."
     ]
    }
   ],
   "source": [
    "f.read()"
   ]
  },
  {
   "cell_type": "code",
   "execution_count": 24,
   "metadata": {},
   "outputs": [
    {
     "name": "stdout",
     "output_type": "stream",
     "text": [
      "nice, no error...\n",
      "flushing file to disk...\n"
     ]
    }
   ],
   "source": [
    "speech_f = open('./speech_analysis.txt', 'w')\n",
    "try:\n",
    "    speech_f.write(\"HI\")\n",
    "    #\"HI\" + 1\n",
    "except TypeError as e:\n",
    "    print(\"Error found: %s\"%e)\n",
    "    # Enter this block when excaption is raised\n",
    "    pass\n",
    "else:\n",
    "    print(\"nice, no error...\")\n",
    "    # Enter this block when NO exception is raised\n",
    "    pass\n",
    "finally:\n",
    "    # Always enter this block \n",
    "    print(\"flushing file to disk...\")\n",
    "    speech_f.close()"
   ]
  },
  {
   "cell_type": "code",
   "execution_count": 25,
   "metadata": {},
   "outputs": [],
   "source": [
    "# context manager\n",
    "with open('./speech_analysis.txt', 'w') as res_f:\n",
    "    res_f.write(\"nice\")"
   ]
  },
  {
   "cell_type": "code",
   "execution_count": 26,
   "metadata": {},
   "outputs": [],
   "source": [
    "with open('./trump_speech.txt') as f:\n",
    "    speech = f.read()"
   ]
  },
  {
   "cell_type": "code",
   "execution_count": 29,
   "metadata": {},
   "outputs": [],
   "source": [
    "greeting = \"Mr. Secretary General, Mr. President, world leaders, and distinguished delegates, welcome to New York.\""
   ]
  },
  {
   "cell_type": "code",
   "execution_count": 34,
   "metadata": {},
   "outputs": [
    {
     "data": {
      "text/plain": [
       "['Mr.',\n",
       " 'Secretary',\n",
       " 'General,',\n",
       " 'Mr.',\n",
       " 'President,',\n",
       " 'world',\n",
       " 'leaders,',\n",
       " 'and',\n",
       " 'distinguished',\n",
       " 'delegates,',\n",
       " 'welcome',\n",
       " 'to',\n",
       " 'New',\n",
       " 'York.']"
      ]
     },
     "execution_count": 34,
     "metadata": {},
     "output_type": "execute_result"
    }
   ],
   "source": [
    "greeting.split(\" \")"
   ]
  },
  {
   "cell_type": "code",
   "execution_count": 36,
   "metadata": {},
   "outputs": [],
   "source": [
    "row = [\"Chen\", \"Ian\", \"bb104\", \"teacher\", \"Taipei\"]"
   ]
  },
  {
   "cell_type": "code",
   "execution_count": 41,
   "metadata": {},
   "outputs": [
    {
     "data": {
      "text/plain": [
       "'Chen,Ian,bb104,teacher,Taipei'"
      ]
     },
     "execution_count": 41,
     "metadata": {},
     "output_type": "execute_result"
    }
   ],
   "source": [
    "\",\".join(row)"
   ]
  },
  {
   "cell_type": "code",
   "execution_count": 43,
   "metadata": {},
   "outputs": [],
   "source": [
    "res = [5,6,3,4,8,9,3,2,1111]"
   ]
  },
  {
   "cell_type": "code",
   "execution_count": 45,
   "metadata": {},
   "outputs": [
    {
     "data": {
      "text/plain": [
       "[1111, 9, 8, 6, 5, 4, 3, 3, 2]"
      ]
     },
     "execution_count": 45,
     "metadata": {},
     "output_type": "execute_result"
    }
   ],
   "source": [
    "sorted(res, reverse=True)"
   ]
  },
  {
   "cell_type": "code",
   "execution_count": 46,
   "metadata": {},
   "outputs": [],
   "source": [
    "res = [('America', 99),(\"Great\", 2),(\"Again\", 50)]"
   ]
  },
  {
   "cell_type": "code",
   "execution_count": 48,
   "metadata": {},
   "outputs": [
    {
     "data": {
      "text/plain": [
       "[('America', 99), ('Again', 50), ('Great', 2)]"
      ]
     },
     "execution_count": 48,
     "metadata": {},
     "output_type": "execute_result"
    }
   ],
   "source": [
    "sorted(res, key=lambda x: x[1], reverse=True)"
   ]
  },
  {
   "cell_type": "code",
   "execution_count": 72,
   "metadata": {},
   "outputs": [
    {
     "data": {
      "text/plain": [
       "['a',\n",
       " 'about',\n",
       " 'above',\n",
       " 'across',\n",
       " 'after',\n",
       " 'afterwards',\n",
       " 'again',\n",
       " 'against',\n",
       " 'all',\n",
       " 'almost',\n",
       " 'alone',\n",
       " 'along',\n",
       " 'already',\n",
       " 'also',\n",
       " 'although',\n",
       " 'always',\n",
       " 'am',\n",
       " 'among',\n",
       " 'amongst',\n",
       " 'amoungst',\n",
       " 'amount',\n",
       " 'an',\n",
       " 'and',\n",
       " 'another',\n",
       " 'any',\n",
       " 'anyhow',\n",
       " 'anyone',\n",
       " 'anything',\n",
       " 'anyway',\n",
       " 'anywhere',\n",
       " 'are',\n",
       " 'around',\n",
       " 'as',\n",
       " 'at',\n",
       " 'back',\n",
       " 'be',\n",
       " 'became',\n",
       " 'because',\n",
       " 'become',\n",
       " 'becomes',\n",
       " 'becoming',\n",
       " 'been',\n",
       " 'before',\n",
       " 'beforehand',\n",
       " 'behind',\n",
       " 'being',\n",
       " 'below',\n",
       " 'beside',\n",
       " 'besides',\n",
       " 'between',\n",
       " 'beyond',\n",
       " 'bill',\n",
       " 'both',\n",
       " 'bottom',\n",
       " 'but',\n",
       " 'by',\n",
       " 'call',\n",
       " 'can',\n",
       " 'cannot',\n",
       " 'cant',\n",
       " 'co',\n",
       " 'computer',\n",
       " 'con',\n",
       " 'could',\n",
       " 'couldnt',\n",
       " 'cry',\n",
       " 'de',\n",
       " 'describe',\n",
       " 'detail',\n",
       " 'do',\n",
       " 'done',\n",
       " 'down',\n",
       " 'due',\n",
       " 'during',\n",
       " 'each',\n",
       " 'eg',\n",
       " 'eight',\n",
       " 'either',\n",
       " 'eleven',\n",
       " 'else',\n",
       " 'elsewhere',\n",
       " 'empty',\n",
       " 'enough',\n",
       " 'etc',\n",
       " 'even',\n",
       " 'ever',\n",
       " 'every',\n",
       " 'everyone',\n",
       " 'everything',\n",
       " 'everywhere',\n",
       " 'except',\n",
       " 'few',\n",
       " 'fifteen',\n",
       " 'fify',\n",
       " 'fill',\n",
       " 'find',\n",
       " 'fire',\n",
       " 'first',\n",
       " 'five',\n",
       " 'for',\n",
       " 'former',\n",
       " 'formerly',\n",
       " 'forty',\n",
       " 'found',\n",
       " 'four',\n",
       " 'from',\n",
       " 'front',\n",
       " 'full',\n",
       " 'further',\n",
       " 'get',\n",
       " 'give',\n",
       " 'go',\n",
       " 'had',\n",
       " 'has',\n",
       " 'hasnt',\n",
       " 'have',\n",
       " 'he',\n",
       " 'hence',\n",
       " 'her',\n",
       " 'here',\n",
       " 'hereafter',\n",
       " 'hereby',\n",
       " 'herein',\n",
       " 'hereupon',\n",
       " 'hers',\n",
       " 'herse\"',\n",
       " 'him',\n",
       " 'himse\"',\n",
       " 'his',\n",
       " 'how',\n",
       " 'however',\n",
       " 'hundred',\n",
       " 'i',\n",
       " 'ie',\n",
       " 'if',\n",
       " 'in',\n",
       " 'inc',\n",
       " 'indeed',\n",
       " 'interest',\n",
       " 'into',\n",
       " 'is',\n",
       " 'it',\n",
       " 'its',\n",
       " 'itse\"',\n",
       " 'keep',\n",
       " 'last',\n",
       " 'latter',\n",
       " 'latterly',\n",
       " 'least',\n",
       " 'less',\n",
       " 'ltd',\n",
       " 'made',\n",
       " 'many',\n",
       " 'may',\n",
       " 'me',\n",
       " 'meanwhile',\n",
       " 'might',\n",
       " 'mill',\n",
       " 'mine',\n",
       " 'more',\n",
       " 'moreover',\n",
       " 'most',\n",
       " 'mostly',\n",
       " 'move',\n",
       " 'much',\n",
       " 'must',\n",
       " 'my',\n",
       " 'myse\"',\n",
       " 'name',\n",
       " 'namely',\n",
       " 'neither',\n",
       " 'never',\n",
       " 'nevertheless',\n",
       " 'next',\n",
       " 'nine',\n",
       " 'no',\n",
       " 'nobody',\n",
       " 'none',\n",
       " 'noone',\n",
       " 'nor',\n",
       " 'not',\n",
       " 'nothing',\n",
       " 'now',\n",
       " 'nowhere',\n",
       " 'of',\n",
       " 'off',\n",
       " 'often',\n",
       " 'on',\n",
       " 'once',\n",
       " 'one',\n",
       " 'only',\n",
       " 'onto',\n",
       " 'or',\n",
       " 'other',\n",
       " 'others',\n",
       " 'otherwise',\n",
       " 'our',\n",
       " 'ours',\n",
       " 'ourselves',\n",
       " 'out',\n",
       " 'over',\n",
       " 'own',\n",
       " 'part',\n",
       " 'per',\n",
       " 'perhaps',\n",
       " 'please',\n",
       " 'put',\n",
       " 'rather',\n",
       " 're',\n",
       " 'same',\n",
       " 'see',\n",
       " 'seem',\n",
       " 'seemed',\n",
       " 'seeming',\n",
       " 'seems',\n",
       " 'serious',\n",
       " 'several',\n",
       " 'she',\n",
       " 'should',\n",
       " 'show',\n",
       " 'side',\n",
       " 'since',\n",
       " 'sincere',\n",
       " 'six',\n",
       " 'sixty',\n",
       " 'so',\n",
       " 'some',\n",
       " 'somehow',\n",
       " 'someone',\n",
       " 'something',\n",
       " 'sometime',\n",
       " 'sometimes',\n",
       " 'somewhere',\n",
       " 'still',\n",
       " 'such',\n",
       " 'system',\n",
       " 'take',\n",
       " 'ten',\n",
       " 'than',\n",
       " 'that',\n",
       " 'the',\n",
       " 'their',\n",
       " 'them',\n",
       " 'themselves',\n",
       " 'then',\n",
       " 'thence',\n",
       " 'there',\n",
       " 'thereafter',\n",
       " 'thereby',\n",
       " 'therefore',\n",
       " 'therein',\n",
       " 'thereupon',\n",
       " 'these',\n",
       " 'they',\n",
       " 'thick',\n",
       " 'thin',\n",
       " 'third',\n",
       " 'this',\n",
       " 'those',\n",
       " 'though',\n",
       " 'three',\n",
       " 'through',\n",
       " 'throughout',\n",
       " 'thru',\n",
       " 'thus',\n",
       " 'to',\n",
       " 'together',\n",
       " 'too',\n",
       " 'top',\n",
       " 'toward',\n",
       " 'towards',\n",
       " 'twelve',\n",
       " 'twenty',\n",
       " 'two',\n",
       " 'un',\n",
       " 'under',\n",
       " 'until',\n",
       " 'up',\n",
       " 'upon',\n",
       " 'us',\n",
       " 'very',\n",
       " 'via',\n",
       " 'was',\n",
       " 'we',\n",
       " 'well',\n",
       " 'were',\n",
       " 'what',\n",
       " 'whatever',\n",
       " 'when',\n",
       " 'whence',\n",
       " 'whenever',\n",
       " 'where',\n",
       " 'whereafter',\n",
       " 'whereas',\n",
       " 'whereby',\n",
       " 'wherein',\n",
       " 'whereupon',\n",
       " 'wherever',\n",
       " 'whether',\n",
       " 'which',\n",
       " 'while',\n",
       " 'whither',\n",
       " 'who',\n",
       " 'whoever',\n",
       " 'whole',\n",
       " 'whom',\n",
       " 'whose',\n",
       " 'why',\n",
       " 'will',\n",
       " 'with',\n",
       " 'within',\n",
       " 'without',\n",
       " 'would',\n",
       " 'yet',\n",
       " 'you',\n",
       " 'your',\n",
       " 'yours',\n",
       " 'yourself',\n",
       " 'yourselves']"
      ]
     },
     "execution_count": 72,
     "metadata": {},
     "output_type": "execute_result"
    }
   ],
   "source": [
    "stopwords_str = \"\"\"a\n",
    "about\n",
    "above\n",
    "across\n",
    "after\n",
    "afterwards\n",
    "again\n",
    "against\n",
    "all\n",
    "almost\n",
    "alone\n",
    "along\n",
    "already\n",
    "also\n",
    "although\n",
    "always\n",
    "am\n",
    "among\n",
    "amongst\n",
    "amoungst\n",
    "amount\n",
    "an\n",
    "and\n",
    "another\n",
    "any\n",
    "anyhow\n",
    "anyone\n",
    "anything\n",
    "anyway\n",
    "anywhere\n",
    "are\n",
    "around\n",
    "as\n",
    "at\n",
    "back\n",
    "be\n",
    "became\n",
    "because\n",
    "become\n",
    "becomes\n",
    "becoming\n",
    "been\n",
    "before\n",
    "beforehand\n",
    "behind\n",
    "being\n",
    "below\n",
    "beside\n",
    "besides\n",
    "between\n",
    "beyond\n",
    "bill\n",
    "both\n",
    "bottom\n",
    "but\n",
    "by\n",
    "call\n",
    "can\n",
    "cannot\n",
    "cant\n",
    "co\n",
    "computer\n",
    "con\n",
    "could\n",
    "couldnt\n",
    "cry\n",
    "de\n",
    "describe\n",
    "detail\n",
    "do\n",
    "done\n",
    "down\n",
    "due\n",
    "during\n",
    "each\n",
    "eg\n",
    "eight\n",
    "either\n",
    "eleven\n",
    "else\n",
    "elsewhere\n",
    "empty\n",
    "enough\n",
    "etc\n",
    "even\n",
    "ever\n",
    "every\n",
    "everyone\n",
    "everything\n",
    "everywhere\n",
    "except\n",
    "few\n",
    "fifteen\n",
    "fify\n",
    "fill\n",
    "find\n",
    "fire\n",
    "first\n",
    "five\n",
    "for\n",
    "former\n",
    "formerly\n",
    "forty\n",
    "found\n",
    "four\n",
    "from\n",
    "front\n",
    "full\n",
    "further\n",
    "get\n",
    "give\n",
    "go\n",
    "had\n",
    "has\n",
    "hasnt\n",
    "have\n",
    "he\n",
    "hence\n",
    "her\n",
    "here\n",
    "hereafter\n",
    "hereby\n",
    "herein\n",
    "hereupon\n",
    "hers\n",
    "herse\"\n",
    "him\n",
    "himse\"\n",
    "his\n",
    "how\n",
    "however\n",
    "hundred\n",
    "i\n",
    "ie\n",
    "if\n",
    "in\n",
    "inc\n",
    "indeed\n",
    "interest\n",
    "into\n",
    "is\n",
    "it\n",
    "its\n",
    "itse\"\n",
    "keep\n",
    "last\n",
    "latter\n",
    "latterly\n",
    "least\n",
    "less\n",
    "ltd\n",
    "made\n",
    "many\n",
    "may\n",
    "me\n",
    "meanwhile\n",
    "might\n",
    "mill\n",
    "mine\n",
    "more\n",
    "moreover\n",
    "most\n",
    "mostly\n",
    "move\n",
    "much\n",
    "must\n",
    "my\n",
    "myse\"\n",
    "name\n",
    "namely\n",
    "neither\n",
    "never\n",
    "nevertheless\n",
    "next\n",
    "nine\n",
    "no\n",
    "nobody\n",
    "none\n",
    "noone\n",
    "nor\n",
    "not\n",
    "nothing\n",
    "now\n",
    "nowhere\n",
    "of\n",
    "off\n",
    "often\n",
    "on\n",
    "once\n",
    "one\n",
    "only\n",
    "onto\n",
    "or\n",
    "other\n",
    "others\n",
    "otherwise\n",
    "our\n",
    "ours\n",
    "ourselves\n",
    "out\n",
    "over\n",
    "own\n",
    "part\n",
    "per\n",
    "perhaps\n",
    "please\n",
    "put\n",
    "rather\n",
    "re\n",
    "same\n",
    "see\n",
    "seem\n",
    "seemed\n",
    "seeming\n",
    "seems\n",
    "serious\n",
    "several\n",
    "she\n",
    "should\n",
    "show\n",
    "side\n",
    "since\n",
    "sincere\n",
    "six\n",
    "sixty\n",
    "so\n",
    "some\n",
    "somehow\n",
    "someone\n",
    "something\n",
    "sometime\n",
    "sometimes\n",
    "somewhere\n",
    "still\n",
    "such\n",
    "system\n",
    "take\n",
    "ten\n",
    "than\n",
    "that\n",
    "the\n",
    "their\n",
    "them\n",
    "themselves\n",
    "then\n",
    "thence\n",
    "there\n",
    "thereafter\n",
    "thereby\n",
    "therefore\n",
    "therein\n",
    "thereupon\n",
    "these\n",
    "they\n",
    "thick\n",
    "thin\n",
    "third\n",
    "this\n",
    "those\n",
    "though\n",
    "three\n",
    "through\n",
    "throughout\n",
    "thru\n",
    "thus\n",
    "to\n",
    "together\n",
    "too\n",
    "top\n",
    "toward\n",
    "towards\n",
    "twelve\n",
    "twenty\n",
    "two\n",
    "un\n",
    "under\n",
    "until\n",
    "up\n",
    "upon\n",
    "us\n",
    "very\n",
    "via\n",
    "was\n",
    "we\n",
    "well\n",
    "were\n",
    "what\n",
    "whatever\n",
    "when\n",
    "whence\n",
    "whenever\n",
    "where\n",
    "whereafter\n",
    "whereas\n",
    "whereby\n",
    "wherein\n",
    "whereupon\n",
    "wherever\n",
    "whether\n",
    "which\n",
    "while\n",
    "whither\n",
    "who\n",
    "whoever\n",
    "whole\n",
    "whom\n",
    "whose\n",
    "why\n",
    "will\n",
    "with\n",
    "within\n",
    "without\n",
    "would\n",
    "yet\n",
    "you\n",
    "your\n",
    "yours\n",
    "yourself\n",
    "yourselves\"\"\"\n",
    "\n",
    "stopwords = stopwords_str.split()\n",
    "stopwords"
   ]
  },
  {
   "cell_type": "code",
   "execution_count": 77,
   "metadata": {},
   "outputs": [],
   "source": [
    "with open('./trump_speech.txt') as f:\n",
    "    speech = f.read()\n",
    "    \n",
    "word_dict = {}\n",
    "for word in speech.lower().replace(',', '').replace('.', '').split():\n",
    "    if word not in stopwords:\n",
    "        if word in word_dict:\n",
    "            word_dict[word] += 1\n",
    "        else:\n",
    "            word_dict[word] = 1\n",
    "res = sorted(list(word_dict.items()), key=lambda x: x[1], reverse=True)"
   ]
  },
  {
   "cell_type": "code",
   "execution_count": 95,
   "metadata": {},
   "outputs": [
    {
     "data": {
      "text/plain": [
       "[('nations', 49),\n",
       " ('people', 44),\n",
       " ('united', 38),\n",
       " ('states', 24),\n",
       " ('world', 23),\n",
       " ('countries', 16),\n",
       " ('regime', 15),\n",
       " ('citizens', 14),\n",
       " ('country', 12),\n",
       " ('nation', 12),\n",
       " ('support', 11),\n",
       " ('sovereign', 11),\n",
       " ('strong', 10),\n",
       " ('time', 10),\n",
       " ('seek', 10),\n",
       " ('prosperity', 10),\n",
       " ('america', 10),\n",
       " ('leaders', 9),\n",
       " ('american', 9),\n",
       " ('today', 9),\n",
       " ('peace', 9),\n",
       " ('security', 9),\n",
       " ('government', 9),\n",
       " ('respect', 9),\n",
       " ('human', 9),\n",
       " ('freedom', 8),\n",
       " ('sovereignty', 8),\n",
       " ('north', 8),\n",
       " ('thank', 8),\n",
       " ('strength', 7),\n",
       " ('conflict', 7),\n",
       " ('great', 7),\n",
       " ('let', 7),\n",
       " ('future', 7),\n",
       " ('interests', 7),\n",
       " ('responsible', 7),\n",
       " ('home', 6),\n",
       " ('terrorists', 6),\n",
       " ('weapons', 6),\n",
       " ('power', 6),\n",
       " ('rights', 6),\n",
       " ('work', 6),\n",
       " ('safe', 6),\n",
       " ('allies', 6),\n",
       " ('confront', 6),\n",
       " ('entire', 6),\n",
       " ('new', 5),\n",
       " ('address', 5),\n",
       " ('millions', 5),\n",
       " ('want', 5),\n",
       " ('room', 5),\n",
       " ('years', 5),\n",
       " ('like', 5),\n",
       " ('terror', 5),\n",
       " ('values', 5),\n",
       " ('help', 5),\n",
       " ('independent', 5),\n",
       " ('life', 5),\n",
       " ('god', 5),\n",
       " ('history', 5),\n",
       " ('defend', 5),\n",
       " ('prosperous', 5),\n",
       " ('trade', 5),\n",
       " (\"iran's\", 5),\n",
       " ('fight', 5),\n",
       " ('venezuela', 5),\n",
       " ('president', 4),\n",
       " ('stand', 4),\n",
       " ('assistance', 4),\n",
       " ('day', 4),\n",
       " ('long', 4),\n",
       " ('just', 4),\n",
       " ('military', 4),\n",
       " ('war', 4),\n",
       " ('threats', 4),\n",
       " ('live', 4),\n",
       " ('region', 4),\n",
       " ('represented', 4),\n",
       " ('systems', 4),\n",
       " ('migration', 4),\n",
       " ('promise', 4),\n",
       " ('lift', 4),\n",
       " ('free', 4),\n",
       " ('diverse', 4),\n",
       " ('success', 4),\n",
       " ('impose', 4),\n",
       " ('use', 4),\n",
       " ('rule', 4),\n",
       " ('women', 4),\n",
       " ('middle', 4),\n",
       " ('goal', 4),\n",
       " ('korea', 4),\n",
       " ('innocent', 4),\n",
       " ('nuclear', 4),\n",
       " ('iranian', 4),\n",
       " ('fact', 4),\n",
       " ('neighbors', 4),\n",
       " ('political', 4),\n",
       " ('—', 4),\n",
       " ('continue', 3),\n",
       " ('begin', 3),\n",
       " ('reforms', 3),\n",
       " ('announced', 3),\n",
       " ('70', 3),\n",
       " ('problems', 3),\n",
       " ('generations', 3),\n",
       " ('dangers', 3),\n",
       " ('threaten', 3),\n",
       " ('regimes', 3),\n",
       " ('international', 3),\n",
       " ('poverty', 3),\n",
       " ('realize', 3),\n",
       " ('better', 3),\n",
       " ('preserve', 3),\n",
       " ('promote', 3),\n",
       " ('beautiful', 3),\n",
       " ('members', 3),\n",
       " ('foundation', 3),\n",
       " ('different', 3),\n",
       " ('allow', 3),\n",
       " ('way', 3),\n",
       " ('example', 3),\n",
       " ('constitution', 3),\n",
       " ('americans', 3),\n",
       " ('duty', 3),\n",
       " ('best', 3),\n",
       " ('peaceful', 3),\n",
       " ('especially', 3),\n",
       " ('deal', 3),\n",
       " ('return', 3),\n",
       " ('hold', 3),\n",
       " (\"america's\", 3),\n",
       " ('fought', 3),\n",
       " ('east', 3),\n",
       " ('hope', 3),\n",
       " ('path', 3),\n",
       " ('challenges', 3),\n",
       " ('face', 3),\n",
       " ('culture', 3),\n",
       " ('evil', 3),\n",
       " ('destruction', 3),\n",
       " ('missiles', 3),\n",
       " ('council', 3),\n",
       " ('sanctions', 3),\n",
       " ('corrupt', 3),\n",
       " ('dictatorship', 3),\n",
       " ('democracy', 3),\n",
       " ('end', 3),\n",
       " ('stop', 3),\n",
       " ('tear', 3),\n",
       " ('finance', 3),\n",
       " ('isis', 3),\n",
       " ('syrian', 3),\n",
       " ('including', 3),\n",
       " ('humanitarian', 3),\n",
       " ('led', 3),\n",
       " ('global', 3),\n",
       " ('maduro', 3),\n",
       " ('venezuelan', 3),\n",
       " ('socialism', 3),\n",
       " ('forgotten', 3),\n",
       " ('bless', 3),\n",
       " ('mr', 2),\n",
       " ('secretary', 2),\n",
       " ('general', 2),\n",
       " ('leader', 2),\n",
       " ('emerge', 2),\n",
       " ('working', 2),\n",
       " ('soon', 2),\n",
       " ('stood', 2),\n",
       " ('opportunity', 2),\n",
       " ('technology', 2),\n",
       " ('solve', 2),\n",
       " ('gathered', 2),\n",
       " ('spread', 2),\n",
       " ('planet', 2),\n",
       " ('rogue', 2),\n",
       " ('body', 2),\n",
       " ('humanity', 2),\n",
       " ('authoritarian', 2),\n",
       " ('collapse', 2),\n",
       " ('criminal', 2),\n",
       " ('mass', 2),\n",
       " ('borders', 2),\n",
       " ('forms', 2),\n",
       " ('dreams', 2),\n",
       " ('ensure', 2),\n",
       " ('children', 2),\n",
       " ('violence', 2),\n",
       " ('fear', 2),\n",
       " ('institution', 2),\n",
       " ('wars', 2),\n",
       " ('based', 2),\n",
       " ('vision', 2),\n",
       " ('protect', 2),\n",
       " ('ago', 2),\n",
       " ('marshall', 2),\n",
       " ('plan', 2),\n",
       " ('restore', 2),\n",
       " ('europe', 2),\n",
       " ('pillars', 2),\n",
       " ('noble', 2),\n",
       " ('truman', 2),\n",
       " ('said', 2),\n",
       " ('message', 2),\n",
       " ('depends', 2),\n",
       " ('overcome', 2),\n",
       " ('present', 2),\n",
       " ('past', 2),\n",
       " ('embrace', 2),\n",
       " ('expect', 2),\n",
       " ('share', 2),\n",
       " ('cultures', 2),\n",
       " ('uphold', 2),\n",
       " ('duties', 2),\n",
       " ('cooperation', 2),\n",
       " ('destiny', 2),\n",
       " ('intended', 2),\n",
       " ('watch', 2),\n",
       " ('pride', 2),\n",
       " ('countless', 2),\n",
       " ('globe', 2),\n",
       " ('dignity', 2),\n",
       " ('law', 2),\n",
       " ('words', 2),\n",
       " ('sacrificed', 2),\n",
       " ('elected', 2),\n",
       " ('belongs', 2),\n",
       " ('renewing', 2),\n",
       " ('founding', 2),\n",
       " ('principle', 2),\n",
       " ('serve', 2),\n",
       " ('safety', 2),\n",
       " ('state', 2),\n",
       " ('close', 2),\n",
       " ('harmony', 2),\n",
       " ('forever', 2),\n",
       " ('friend', 2),\n",
       " ('taken', 2),\n",
       " ('one-sided', 2),\n",
       " ('secure', 2),\n",
       " ('men', 2),\n",
       " ('build', 2),\n",
       " ('institutions', 2),\n",
       " ('ideologies', 2),\n",
       " ('realism', 2),\n",
       " ('rooted', 2),\n",
       " ('forces', 2),\n",
       " ('question', 2),\n",
       " ('faithfully', 2),\n",
       " ('south', 2),\n",
       " ('china', 2),\n",
       " ('engagement', 2),\n",
       " ('threatens', 2),\n",
       " ('chaos', 2),\n",
       " ('decent', 2),\n",
       " ('well-being', 2),\n",
       " (\"regime's\", 2),\n",
       " ('student', 2),\n",
       " ('die', 2),\n",
       " ('banned', 2),\n",
       " (\"korea's\", 2),\n",
       " ('reckless', 2),\n",
       " ('pursuit', 2),\n",
       " ('arm', 2),\n",
       " ('financially', 2),\n",
       " ('itself', 2),\n",
       " ('choice', 2),\n",
       " ('totally', 2),\n",
       " ('mission', 2),\n",
       " ('willing', 2),\n",
       " ('necessary', 2),\n",
       " (\"that's\", 2),\n",
       " ('recently', 2),\n",
       " ('far', 2),\n",
       " ('death', 2),\n",
       " ('bloodshed', 2),\n",
       " ('fund', 2),\n",
       " ('hezbollah', 2),\n",
       " ('attack', 2),\n",
       " ('arab', 2),\n",
       " ('wealth', 2),\n",
       " ('bashar', 2),\n",
       " ('destabilizing', 2),\n",
       " ('eventual', 2),\n",
       " ('iran', 2),\n",
       " ('embarrassment', 2),\n",
       " ('believe', 2),\n",
       " ('good', 2),\n",
       " ('recent', 2),\n",
       " ('terrorism', 2),\n",
       " ('islamic', 2),\n",
       " ('ideology', 2),\n",
       " ('groups', 2),\n",
       " ('taliban', 2),\n",
       " ('victory', 2),\n",
       " ('rules', 2),\n",
       " ('chemical', 2),\n",
       " ('person', 2),\n",
       " ('providing', 2),\n",
       " ('vital', 2),\n",
       " ('role', 2),\n",
       " ('hosting', 2),\n",
       " ('refugees', 2),\n",
       " ('billions', 2),\n",
       " ('approach', 2),\n",
       " ('refugee', 2),\n",
       " ('process', 2),\n",
       " ('cost', 2),\n",
       " ('hearts', 2),\n",
       " ('western', 2),\n",
       " ('hemisphere', 2),\n",
       " ('uncontrolled', 2),\n",
       " ('unfair', 2),\n",
       " ('sending', 2),\n",
       " ('receiving', 2),\n",
       " ('pursue', 2),\n",
       " ('economic', 2),\n",
       " ('reform', 2),\n",
       " ('union', 2),\n",
       " ('relief', 2),\n",
       " ('invested', 2),\n",
       " ('health', 2),\n",
       " ('initiative', 2),\n",
       " ('commitment', 2),\n",
       " ('effective', 2),\n",
       " ('confronting', 2),\n",
       " ('organization', 2),\n",
       " ('source', 2),\n",
       " ('pay', 2),\n",
       " ('burden', 2),\n",
       " ('fair', 2),\n",
       " ('powerful', 2),\n",
       " ('accountable', 2),\n",
       " ('societies', 2),\n",
       " ('cuba', 2),\n",
       " ('cuban', 2),\n",
       " ('socialist', 2),\n",
       " ('suffering', 2),\n",
       " ('destroyed', 2),\n",
       " ('important', 2),\n",
       " ('prepared', 2),\n",
       " ('action', 2),\n",
       " ('healthy', 2),\n",
       " ('bond', 2),\n",
       " ('implemented', 2),\n",
       " ('sacrifice', 2),\n",
       " ('distinguished', 1),\n",
       " ('delegates', 1),\n",
       " ('welcome', 1),\n",
       " ('york', 1),\n",
       " ('profound', 1),\n",
       " ('honor', 1),\n",
       " ('city', 1),\n",
       " ('representative', 1),\n",
       " ('suffer', 1),\n",
       " ('effects', 1),\n",
       " ('devastating', 1),\n",
       " ('hurricanes', 1),\n",
       " ('struck', 1),\n",
       " ('expressing', 1),\n",
       " ('appreciation', 1),\n",
       " ('offered', 1),\n",
       " ('aid', 1),\n",
       " ('resilient', 1),\n",
       " ('hardships', 1),\n",
       " ('determined', 1),\n",
       " ('fortunately', 1),\n",
       " ('election', 1),\n",
       " ('november', 1),\n",
       " ('8', 1),\n",
       " ('stock', 1),\n",
       " ('market', 1),\n",
       " ('all-time', 1),\n",
       " ('high', 1),\n",
       " ('record', 1),\n",
       " ('unemployment', 1),\n",
       " ('lowest', 1),\n",
       " ('level', 1),\n",
       " ('16', 1),\n",
       " ('regulatory', 1),\n",
       " ('companies', 1),\n",
       " ('moving', 1),\n",
       " ('creating', 1),\n",
       " ('job', 1),\n",
       " ('growth', 1),\n",
       " ('likes', 1),\n",
       " ('seen', 1),\n",
       " ('spending', 1),\n",
       " ('$700', 1),\n",
       " ('billion', 1),\n",
       " ('defense', 1),\n",
       " ('strongest', 1),\n",
       " ('times', 1),\n",
       " ('movements', 1),\n",
       " ('religions', 1),\n",
       " ('assembly', 1),\n",
       " ('intend', 1),\n",
       " ('enormous', 1),\n",
       " ('potential', 1),\n",
       " ('waiting', 1),\n",
       " ('unleashed', 1),\n",
       " ('extraordinary', 1),\n",
       " ('breakthroughs', 1),\n",
       " ('science', 1),\n",
       " ('medicine', 1),\n",
       " ('curing', 1),\n",
       " ('illnesses', 1),\n",
       " ('solving', 1),\n",
       " ('prior', 1),\n",
       " ('thought', 1),\n",
       " ('impossible', 1),\n",
       " ('brings', 1),\n",
       " ('news', 1),\n",
       " ('growing', 1),\n",
       " ('cherish', 1),\n",
       " ('value', 1),\n",
       " ('extremists', 1),\n",
       " ('destructive', 1),\n",
       " ('known', 1),\n",
       " ('authority', 1),\n",
       " ('powers', 1),\n",
       " ('alliances', 1),\n",
       " ('prevented', 1),\n",
       " ('tilted', 1),\n",
       " ('word', 1),\n",
       " ('ii', 1),\n",
       " ('networks', 1),\n",
       " ('traffic', 1),\n",
       " ('drugs', 1),\n",
       " ('force', 1),\n",
       " ('dislocation', 1),\n",
       " ('aggression', 1),\n",
       " ('exploit', 1),\n",
       " ('menace', 1),\n",
       " ('simply', 1),\n",
       " ('meet', 1),\n",
       " ('immense', 1),\n",
       " ('peril', 1),\n",
       " ('entirely', 1),\n",
       " ('heights', 1),\n",
       " ('fall', 1),\n",
       " ('valley', 1),\n",
       " ('disrepair', 1),\n",
       " ('choose', 1),\n",
       " ('raised', 1),\n",
       " ('hatred', 1),\n",
       " ('founded', 1),\n",
       " ('aftermath', 1),\n",
       " ('shape', 1),\n",
       " ('cooperate', 1),\n",
       " ('period', 1),\n",
       " ('exactly', 1),\n",
       " ('developed', 1),\n",
       " ('built', 1),\n",
       " ('idea', 1),\n",
       " ('safer', 1),\n",
       " ('congress', 1),\n",
       " ('european', 1),\n",
       " ('recovery', 1),\n",
       " ('accord', 1),\n",
       " ('perils', 1),\n",
       " ('achieve', 1),\n",
       " ('wisdom', 1),\n",
       " ('coalition', 1),\n",
       " ('traditions', 1),\n",
       " ('core', 1),\n",
       " ('coexist', 1),\n",
       " ('basis', 1),\n",
       " ('mutual', 1),\n",
       " ('ownership', 1),\n",
       " ('control', 1),\n",
       " ('individuals', 1),\n",
       " ('flourish', 1),\n",
       " ('fullness', 1),\n",
       " ('shine', 1),\n",
       " ('week', 1),\n",
       " ('gives', 1),\n",
       " ('special', 1),\n",
       " ('reason', 1),\n",
       " ('celebrating', 1),\n",
       " ('230th', 1),\n",
       " ('anniversary', 1),\n",
       " ('beloved', 1),\n",
       " ('oldest', 1),\n",
       " ('timeless', 1),\n",
       " ('document', 1),\n",
       " ('inspiration', 1),\n",
       " ('nature', 1),\n",
       " ('greatest', 1),\n",
       " ('\"we', 1),\n",
       " ('people\"', 1),\n",
       " ('maintain', 1),\n",
       " ('govern', 1),\n",
       " ('foreign', 1),\n",
       " ('affairs', 1),\n",
       " (\"government's\", 1),\n",
       " ('needs', 1),\n",
       " ('obligation', 1),\n",
       " ('remains', 1),\n",
       " ('vehicle', 1),\n",
       " ('elevating', 1),\n",
       " ('condition', 1),\n",
       " ('making', 1),\n",
       " ('requires', 1),\n",
       " ('unity', 1),\n",
       " ('create', 1),\n",
       " ('longer', 1),\n",
       " ('advantage', 1),\n",
       " ('enter', 1),\n",
       " ('gets', 1),\n",
       " ('office', 1),\n",
       " ('fulfilling', 1),\n",
       " ('obligations', 1),\n",
       " (\"it's\", 1),\n",
       " (\"everyone's\", 1),\n",
       " ('does', 1),\n",
       " ('speak', 1),\n",
       " ('expressed', 1),\n",
       " ('charter', 1),\n",
       " ('paid', 1),\n",
       " ('ultimate', 1),\n",
       " ('price', 1),\n",
       " ('hall', 1),\n",
       " ('devotion', 1),\n",
       " ('measured', 1),\n",
       " ('battlefields', 1),\n",
       " ('young', 1),\n",
       " ('alongside', 1),\n",
       " ('beaches', 1),\n",
       " ('deserts', 1),\n",
       " ('jungles', 1),\n",
       " ('asia', 1),\n",
       " ('eternal', 1),\n",
       " ('credit', 1),\n",
       " ('character', 1),\n",
       " ('victorious', 1),\n",
       " ('bloodiest', 1),\n",
       " ('did', 1),\n",
       " ('territorial', 1),\n",
       " ('expansion', 1),\n",
       " ('attempt', 1),\n",
       " ('oppose', 1),\n",
       " ('instead', 1),\n",
       " ('helped', 1),\n",
       " ('friendship', 1),\n",
       " ('strife', 1),\n",
       " ('guided', 1),\n",
       " ('outcomes', 1),\n",
       " ('policy', 1),\n",
       " ('principled', 1),\n",
       " ('shared', 1),\n",
       " ('facing', 1),\n",
       " ('escape', 1),\n",
       " ('avoid', 1),\n",
       " ('slide', 1),\n",
       " ('complacency', 1),\n",
       " ('numb', 1),\n",
       " ('enjoy', 1),\n",
       " ('tomorrow', 1),\n",
       " ('desire', 1),\n",
       " ('aspire', 1),\n",
       " ('approval', 1),\n",
       " ('fulfill', 1),\n",
       " ('represent', 1),\n",
       " ('futures', 1),\n",
       " ('reject', 1),\n",
       " ('ukraine', 1),\n",
       " ('sea', 1),\n",
       " ('founders', 1),\n",
       " ('turmoil', 1),\n",
       " ('score', 1),\n",
       " ('small', 1),\n",
       " ('violate', 1),\n",
       " ('righteous', 1),\n",
       " ('wicked', 1),\n",
       " ('triumph', 1),\n",
       " ('bystanders', 1),\n",
       " ('gather', 1),\n",
       " ('shown', 1),\n",
       " ('contempt', 1),\n",
       " ('depraved', 1),\n",
       " ('starvation', 1),\n",
       " ('deaths', 1),\n",
       " ('koreans', 1),\n",
       " ('imprisonment', 1),\n",
       " ('torture', 1),\n",
       " ('killing', 1),\n",
       " ('oppression', 1),\n",
       " ('witness', 1),\n",
       " ('deadly', 1),\n",
       " ('abuse', 1),\n",
       " ('college', 1),\n",
       " ('otto', 1),\n",
       " ('warmbier', 1),\n",
       " ('returned', 1),\n",
       " ('days', 1),\n",
       " ('later', 1),\n",
       " ('saw', 1),\n",
       " ('assassination', 1),\n",
       " (\"dictator's\", 1),\n",
       " ('brother', 1),\n",
       " ('using', 1),\n",
       " ('nerve', 1),\n",
       " ('agents', 1),\n",
       " ('airport', 1),\n",
       " ('know', 1),\n",
       " ('kidnapped', 1),\n",
       " ('sweet', 1),\n",
       " ('13-year-old', 1),\n",
       " ('japanese', 1),\n",
       " ('girl', 1),\n",
       " ('beach', 1),\n",
       " ('enslave', 1),\n",
       " ('language', 1),\n",
       " ('tutor', 1),\n",
       " ('spies', 1),\n",
       " ('twisted', 1),\n",
       " ('ballistic', 1),\n",
       " ('unthinkable', 1),\n",
       " ('loss', 1),\n",
       " ('outrage', 1),\n",
       " ('supply', 1),\n",
       " ('imperils', 1),\n",
       " ('earth', 1),\n",
       " ('seeing', 1),\n",
       " ('band', 1),\n",
       " ('criminals', 1),\n",
       " ('patience', 1),\n",
       " ('forced', 1),\n",
       " ('destroy', 1),\n",
       " ('rocket', 1),\n",
       " ('man', 1),\n",
       " ('suicide', 1),\n",
       " ('himself', 1),\n",
       " ('ready', 1),\n",
       " ('able', 1),\n",
       " ('hopefully', 1),\n",
       " (\"let's\", 1),\n",
       " ('denuclearization', 1),\n",
       " ('acceptable', 1),\n",
       " ('held', 1),\n",
       " ('unanimous', 1),\n",
       " ('15-0', 1),\n",
       " ('votes', 1),\n",
       " ('adopting', 1),\n",
       " ('hard-hitting', 1),\n",
       " ('resolutions', 1),\n",
       " ('russia', 1),\n",
       " ('joining', 1),\n",
       " ('vote', 1),\n",
       " ('involved', 1),\n",
       " ('isolate', 1),\n",
       " ('kim', 1),\n",
       " ('ceases', 1),\n",
       " ('hostile', 1),\n",
       " ('behavior', 1),\n",
       " ('decision', 1),\n",
       " ('korea;', 1),\n",
       " ('speaks', 1),\n",
       " ('openly', 1),\n",
       " ('murder', 1),\n",
       " ('vowing', 1),\n",
       " ('israel', 1),\n",
       " ('ruin', 1),\n",
       " ('masks', 1),\n",
       " ('false', 1),\n",
       " ('guise', 1),\n",
       " ('turned', 1),\n",
       " ('wealthy', 1),\n",
       " ('rich', 1),\n",
       " ('economically', 1),\n",
       " ('depleted', 1),\n",
       " ('chief', 1),\n",
       " ('exports', 1),\n",
       " ('longest-suffering', 1),\n",
       " ('victims', 1),\n",
       " ('resources', 1),\n",
       " ('improve', 1),\n",
       " ('oil', 1),\n",
       " ('profits', 1),\n",
       " ('kill', 1),\n",
       " ('muslims', 1),\n",
       " ('israeli', 1),\n",
       " ('rightly', 1),\n",
       " ('goes', 1),\n",
       " ('shore', 1),\n",
       " (\"al-assad's\", 1),\n",
       " ('fuel', 1),\n",
       " (\"yemen's\", 1),\n",
       " ('civil', 1),\n",
       " ('undermine', 1),\n",
       " ('murderous', 1),\n",
       " ('activities', 1),\n",
       " ('building', 1),\n",
       " ('dangerous', 1),\n",
       " ('abide', 1),\n",
       " ('agreement', 1),\n",
       " ('provides', 1),\n",
       " ('cover', 1),\n",
       " ('construction', 1),\n",
       " ('program', 1),\n",
       " ('worst', 1),\n",
       " ('transactions', 1),\n",
       " ('entered', 1),\n",
       " ('frankly', 1),\n",
       " (\"don't\", 1),\n",
       " ('think', 1),\n",
       " (\"you've\", 1),\n",
       " ('heard', 1),\n",
       " ('join', 1),\n",
       " ('demanding', 1),\n",
       " ('unjustly', 1),\n",
       " ('detained', 1),\n",
       " ('supporting', 1),\n",
       " ('serving', 1),\n",
       " ('understands', 1),\n",
       " ('change', 1),\n",
       " ('vast', 1),\n",
       " ('causes', 1),\n",
       " ('restrict', 1),\n",
       " ('internet', 1),\n",
       " ('access', 1),\n",
       " ('satellite', 1),\n",
       " ('dishes', 1),\n",
       " ('shoot', 1),\n",
       " ('unarmed', 1),\n",
       " ('protesters', 1),\n",
       " ('imprison', 1),\n",
       " ('reformers', 1),\n",
       " ('oppressive', 1),\n",
       " ('endure', 1),\n",
       " ('come', 1),\n",
       " (\"nation's\", 1),\n",
       " ('proud', 1),\n",
       " ('roots', 1),\n",
       " ('center', 1),\n",
       " ('civilization', 1),\n",
       " ('happy', 1),\n",
       " ('again?', 1),\n",
       " ('stark', 1),\n",
       " ('contrast', 1),\n",
       " ('commitments', 1),\n",
       " ('halt', 1),\n",
       " ('saudi', 1),\n",
       " ('arabia', 1),\n",
       " ('early', 1),\n",
       " ('year', 1),\n",
       " ('greatly', 1),\n",
       " ('honored', 1),\n",
       " ('50', 1),\n",
       " ('muslim', 1),\n",
       " ('agreed', 1),\n",
       " ('extremism', 1),\n",
       " ('inspires', 1),\n",
       " ('radical', 1),\n",
       " ('deny', 1),\n",
       " ('haven', 1),\n",
       " ('transit', 1),\n",
       " ('funding', 1),\n",
       " ('form', 1),\n",
       " ('vile', 1),\n",
       " ('sinister', 1),\n",
       " ('drive', 1),\n",
       " ('expose', 1),\n",
       " ('fi', 1),\n",
       " ('al-qaeda', 1),\n",
       " ('slaughter', 1),\n",
       " ('crush', 1),\n",
       " ('loser', 1),\n",
       " ('reemergence', 1),\n",
       " ('havens', 1),\n",
       " ('launch', 1),\n",
       " ('attacks', 1),\n",
       " ('month', 1),\n",
       " ('strategy', 1),\n",
       " ('afghanistan', 1),\n",
       " ('dictate', 1),\n",
       " ('length', 1),\n",
       " ('scope', 1),\n",
       " ('operation', 1),\n",
       " ('arbitrary', 1),\n",
       " ('benchmarks', 1),\n",
       " ('timetables', 1),\n",
       " ('set', 1),\n",
       " ('politicians', 1),\n",
       " ('changed', 1),\n",
       " ('terrorist', 1),\n",
       " ('syria', 1),\n",
       " ('iraq', 1),\n",
       " ('big', 1),\n",
       " ('gains', 1),\n",
       " ('lasting', 1),\n",
       " ('defeat', 1),\n",
       " ('achieved', 1),\n",
       " ('months', 1),\n",
       " ('combined', 1),\n",
       " ('deescalation', 1),\n",
       " ('solution', 1),\n",
       " ('honors', 1),\n",
       " ('actions', 1),\n",
       " ('al-assad', 1),\n",
       " ('shock', 1),\n",
       " ('conscience', 1),\n",
       " ('society', 1),\n",
       " ('allowed', 1),\n",
       " ('carried', 1),\n",
       " ('missile', 1),\n",
       " ('strike', 1),\n",
       " ('airbase', 1),\n",
       " ('launched', 1),\n",
       " ('appreciate', 1),\n",
       " ('efforts', 1),\n",
       " ('agencies', 1),\n",
       " ('areas', 1),\n",
       " ('liberated', 1),\n",
       " ('jordan', 1),\n",
       " ('turkey', 1),\n",
       " ('lebanon', 1),\n",
       " ('compassionate', 1),\n",
       " ('spent', 1),\n",
       " ('dollars', 1),\n",
       " ('helping', 1),\n",
       " ('effort', 1),\n",
       " ('resettlement', 1),\n",
       " ('designed', 1),\n",
       " ('horribly', 1),\n",
       " ('treated', 1),\n",
       " ('enables', 1),\n",
       " ('rebuilding', 1),\n",
       " ('resettling', 1),\n",
       " ('assist', 1),\n",
       " ('10', 1),\n",
       " ('goodness', 1),\n",
       " ('offer', 1),\n",
       " ('financial', 1),\n",
       " ('agreements', 1),\n",
       " ('g20', 1),\n",
       " ('host', 1),\n",
       " ('possible', 1),\n",
       " ('decades', 1),\n",
       " ('dealt', 1),\n",
       " ('learned', 1),\n",
       " ('term', 1),\n",
       " ('deeply', 1),\n",
       " ('reduces', 1),\n",
       " ('domestic', 1),\n",
       " ('pressure', 1),\n",
       " ('needed', 1),\n",
       " ('drains', 1),\n",
       " ('capital', 1),\n",
       " ('motivate', 1),\n",
       " ('implement', 1),\n",
       " ('substantial', 1),\n",
       " ('costs', 1),\n",
       " ('born', 1),\n",
       " ('overwhelmingly', 1),\n",
       " ('low-income', 1),\n",
       " ('concerns', 1),\n",
       " ('ignored', 1),\n",
       " ('media', 1),\n",
       " ('salute', 1),\n",
       " ('seeking', 1),\n",
       " ('cause', 1),\n",
       " ('flee', 1),\n",
       " ('african', 1),\n",
       " ('peacekeeping', 1),\n",
       " ('missions', 1),\n",
       " ('invaluable', 1),\n",
       " ('contributions', 1),\n",
       " ('stabilizing', 1),\n",
       " ('africa', 1),\n",
       " ('continues', 1),\n",
       " ('lead', 1),\n",
       " ('famine', 1),\n",
       " ('prevention', 1),\n",
       " ('sudan', 1),\n",
       " ('somalia', 1),\n",
       " ('northern', 1),\n",
       " ('nigeria', 1),\n",
       " ('yemen', 1),\n",
       " ('programs', 1),\n",
       " ('pepfar', 1),\n",
       " ('funds', 1),\n",
       " ('aids', 1),\n",
       " ('president’s', 1),\n",
       " ('malaria', 1),\n",
       " ('agenda', 1),\n",
       " ('modern', 1),\n",
       " ('slavery', 1),\n",
       " (\"entrepreneur's\", 1),\n",
       " ('empowering', 1),\n",
       " ('recognizing', 1),\n",
       " ('partner', 1),\n",
       " ('focus', 1),\n",
       " ('results', 1),\n",
       " ('bureaucracy', 1),\n",
       " ('cases', 1),\n",
       " ('subvert', 1),\n",
       " (\"institution's\", 1),\n",
       " ('hijacked', 1),\n",
       " ('supposed', 1),\n",
       " ('advance', 1),\n",
       " ('massive', 1),\n",
       " ('governments', 1),\n",
       " ('egregious', 1),\n",
       " ('records', 1),\n",
       " ('sit', 1),\n",
       " ('193', 1),\n",
       " ('22', 1),\n",
       " ('percent', 1),\n",
       " ('budget', 1),\n",
       " ('anybody', 1),\n",
       " ('realizes', 1),\n",
       " ('bears', 1),\n",
       " ('actually', 1),\n",
       " ('accomplish', 1),\n",
       " ('stated', 1),\n",
       " ('goals', 1),\n",
       " ('investment', 1),\n",
       " ('easily', 1),\n",
       " ('worth', 1),\n",
       " ('major', 1),\n",
       " ('portions', 1),\n",
       " ('going', 1),\n",
       " ('hell', 1),\n",
       " ('guidance', 1),\n",
       " ('auspices', 1),\n",
       " ('vicious', 1),\n",
       " ('complex', 1),\n",
       " ('advocate', 1),\n",
       " ('meantime', 1),\n",
       " ('bear', 1),\n",
       " ('disproportionate', 1),\n",
       " ('militarily', 1),\n",
       " ('greater', 1),\n",
       " ('promoting', 1),\n",
       " ('embraced', 1),\n",
       " ('enduring', 1),\n",
       " ('dream', 1),\n",
       " ('administration', 1),\n",
       " ('makes', 1),\n",
       " ('fundamental', 1),\n",
       " ('imposed', 1),\n",
       " ('tough', 1),\n",
       " ('calibrated', 1),\n",
       " ('brought', 1),\n",
       " ('thriving', 1),\n",
       " ('brink', 1),\n",
       " ('total', 1),\n",
       " ('nicolás', 1),\n",
       " ('inflicted', 1),\n",
       " ('terrible', 1),\n",
       " ('pain', 1),\n",
       " ('imposing', 1),\n",
       " ('failed', 1),\n",
       " ('produced', 1),\n",
       " ('misery', 1),\n",
       " ('tried', 1),\n",
       " ('make', 1),\n",
       " ('matters', 1),\n",
       " ('worse', 1),\n",
       " ('defied', 1),\n",
       " ('stealing', 1),\n",
       " ('representatives', 1),\n",
       " ('disastrous', 1),\n",
       " ('starving', 1),\n",
       " ('collapsing', 1),\n",
       " ('democratic', 1),\n",
       " ('situation', 1),\n",
       " ('completely', 1),\n",
       " ('unacceptable', 1),\n",
       " ('neighbor', 1),\n",
       " ('regain', 1),\n",
       " ('recover', 1),\n",
       " ('condemning', 1),\n",
       " ('steps', 1),\n",
       " ('persists', 1),\n",
       " ('fortunate', 1),\n",
       " ('incredibly', 1),\n",
       " ('relationships', 1),\n",
       " ('latin', 1),\n",
       " ('critical', 1),\n",
       " ('advancing', 1),\n",
       " ('ask', 1),\n",
       " ('real', 1),\n",
       " ('crisis', 1),\n",
       " ('restoration', 1),\n",
       " ('freedoms', 1),\n",
       " ('problem', 1),\n",
       " ('poorly', 1),\n",
       " ('soviet', 1),\n",
       " ('true', 1),\n",
       " ('communism', 1),\n",
       " ('adopted', 1),\n",
       " ('delivered', 1),\n",
       " ('anguish', 1),\n",
       " ('devastation', 1),\n",
       " ('failure', 1),\n",
       " ('preach', 1),\n",
       " ...]"
      ]
     },
     "execution_count": 95,
     "metadata": {},
     "output_type": "execute_result"
    }
   ],
   "source": [
    "res"
   ]
  },
  {
   "cell_type": "code",
   "execution_count": 99,
   "metadata": {},
   "outputs": [
    {
     "data": {
      "text/plain": [
       "[('nations', 49),\n",
       " ('people', 44),\n",
       " ('united', 38),\n",
       " ('states', 24),\n",
       " ('world', 23)]"
      ]
     },
     "execution_count": 99,
     "metadata": {},
     "output_type": "execute_result"
    }
   ],
   "source": [
    "from collections import Counter\n",
    "\n",
    "with open('./trump_speech.txt') as f:\n",
    "    speech = f.read()\n",
    "    \n",
    "word_dict = Counter()\n",
    "for word in speech.lower().replace(',', '').replace('.', '').split():\n",
    "    if word not in stopwords:\n",
    "        if word in word_dict:\n",
    "            word_dict[word] += 1\n",
    "        else:\n",
    "            word_dict[word] = 1\n",
    "word_dict.most_common(5)\n",
    "#res = sorted(list(word_dict.items()), key=lambda x: x[1], reverse=True)"
   ]
  },
  {
   "cell_type": "code",
   "execution_count": 74,
   "metadata": {},
   "outputs": [
    {
     "name": "stdout",
     "output_type": "stream",
     "text": [
      "bb104_20171026.ipynb  README.md\t\t   trump_speech.txt\r\n",
      "install_chinese.sh    speech_analysis.txt\r\n"
     ]
    }
   ],
   "source": [
    "!ls"
   ]
  },
  {
   "cell_type": "code",
   "execution_count": 75,
   "metadata": {},
   "outputs": [
    {
     "name": "stdout",
     "output_type": "stream",
     "text": [
      "/home/ubuntu/bb104_pythonetl\r\n"
     ]
    }
   ],
   "source": [
    "!pwd"
   ]
  },
  {
   "cell_type": "code",
   "execution_count": 76,
   "metadata": {},
   "outputs": [
    {
     "name": "stdout",
     "output_type": "stream",
     "text": [
      "Collecting wordcloud\n",
      "  Downloading wordcloud-1.3.1.tar.gz (169kB)\n",
      "\u001b[K    100% |████████████████████████████████| 174kB 643kB/s ta 0:00:01\n",
      "\u001b[?25hCollecting matplotlib (from wordcloud)\n",
      "  Downloading matplotlib-2.1.0-cp36-cp36m-manylinux1_x86_64.whl (15.0MB)\n",
      "\u001b[K    100% |████████████████████████████████| 15.0MB 106kB/s ta 0:00:01    31% |██████████▏                     | 4.7MB 3.8MB/s eta 0:00:03    40% |████████████▉                   | 6.0MB 3.8MB/s eta 0:00:03    54% |█████████████████▎              | 8.1MB 3.4MB/s eta 0:00:03    90% |█████████████████████████████   | 13.6MB 3.1MB/s eta 0:00:01\n",
      "\u001b[?25hCollecting numpy>=1.6.1 (from wordcloud)\n",
      "  Downloading numpy-1.13.3-cp36-cp36m-manylinux1_x86_64.whl (17.0MB)\n",
      "\u001b[K    100% |████████████████████████████████| 17.0MB 87kB/s eta 0:00:01   38% |████████████▍                   | 6.6MB 2.7MB/s eta 0:00:04    44% |██████████████                  | 7.5MB 3.3MB/s eta 0:00:03    57% |██████████████████▍             | 9.8MB 3.4MB/s eta 0:00:03    96% |███████████████████████████████ | 16.4MB 2.8MB/s eta 0:00:01\n",
      "\u001b[?25hCollecting pillow (from wordcloud)\n",
      "  Downloading Pillow-4.3.0-cp36-cp36m-manylinux1_x86_64.whl (5.8MB)\n",
      "\u001b[K    100% |████████████████████████████████| 5.8MB 234kB/s ta 0:00:01    76% |████████████████████████▋       | 4.5MB 3.6MB/s eta 0:00:01\n",
      "\u001b[?25hCollecting cycler>=0.10 (from matplotlib->wordcloud)\n",
      "  Downloading cycler-0.10.0-py2.py3-none-any.whl\n",
      "Requirement already satisfied: six>=1.10 in /home/ubuntu/.pyenv/versions/3.6.1/lib/python3.6/site-packages (from matplotlib->wordcloud)\n",
      "Collecting pytz (from matplotlib->wordcloud)\n",
      "  Downloading pytz-2017.2-py2.py3-none-any.whl (484kB)\n",
      "\u001b[K    100% |████████████████████████████████| 491kB 1.9MB/s ta 0:00:01\n",
      "\u001b[?25hCollecting pyparsing!=2.0.4,!=2.1.2,!=2.1.6,>=2.0.1 (from matplotlib->wordcloud)\n",
      "  Downloading pyparsing-2.2.0-py2.py3-none-any.whl (56kB)\n",
      "\u001b[K    100% |████████████████████████████████| 61kB 3.9MB/s ta 0:00:011\n",
      "\u001b[?25hRequirement already satisfied: python-dateutil>=2.0 in /home/ubuntu/.pyenv/versions/3.6.1/lib/python3.6/site-packages (from matplotlib->wordcloud)\n",
      "Collecting olefile (from pillow->wordcloud)\n",
      "  Downloading olefile-0.44.zip (74kB)\n",
      "\u001b[K    100% |████████████████████████████████| 81kB 3.9MB/s ta 0:00:011\n",
      "\u001b[?25hInstalling collected packages: cycler, numpy, pytz, pyparsing, matplotlib, olefile, pillow, wordcloud\n",
      "  Running setup.py install for olefile ... \u001b[?25ldone\n",
      "\u001b[?25h  Running setup.py install for wordcloud ... \u001b[?25ldone\n",
      "\u001b[?25hSuccessfully installed cycler-0.10.0 matplotlib-2.1.0 numpy-1.13.3 olefile-0.44 pillow-4.3.0 pyparsing-2.2.0 pytz-2017.2 wordcloud-1.3.1\n"
     ]
    }
   ],
   "source": [
    "!pip install wordcloud"
   ]
  },
  {
   "cell_type": "code",
   "execution_count": 88,
   "metadata": {},
   "outputs": [],
   "source": [
    "from wordcloud import WordCloud"
   ]
  },
  {
   "cell_type": "code",
   "execution_count": 92,
   "metadata": {},
   "outputs": [],
   "source": [
    "wc = WordCloud(background_color='white').generate_from_frequencies(word_dict)"
   ]
  },
  {
   "cell_type": "code",
   "execution_count": 93,
   "metadata": {},
   "outputs": [
    {
     "data": {
      "text/plain": [
       "<matplotlib.image.AxesImage at 0x7f1cbe20f7f0>"
      ]
     },
     "execution_count": 93,
     "metadata": {},
     "output_type": "execute_result"
    }
   ],
   "source": [
    "import matplotlib.pyplot as plt\n",
    "plt.imshow(wc)"
   ]
  },
  {
   "cell_type": "code",
   "execution_count": 94,
   "metadata": {},
   "outputs": [
    {
     "data": {
      "image/png": "[encoded data removed]",
      "text/plain": [
       "<matplotlib.figure.Figure at 0x7f1cbe15a390>"
      ]
     },
     "metadata": {},
     "output_type": "display_data"
    }
   ],
   "source": [
    "plt.show()"
   ]
  }
 ],
 "metadata": {
  "kernelspec": {
   "display_name": "Python 3",
   "language": "python",
   "name": "python3"
  },
  "language_info": {
   "codemirror_mode": {
    "name": "ipython",
    "version": 3
   },
   "file_extension": ".py",
   "mimetype": "text/x-python",
   "name": "python",
   "nbconvert_exporter": "python",
   "pygments_lexer": "ipython3",
   "version": "3.6.1"
  }
 },
 "nbformat": 4,
 "nbformat_minor": 2
}
